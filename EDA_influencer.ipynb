{
  "nbformat": 4,
  "nbformat_minor": 0,
  "metadata": {
    "colab": {
      "name": "EDA-influencer.ipynb",
      "provenance": [],
      "collapsed_sections": [
        "9Rk5S1JRZWKF",
        "ZBmt6WO8ZkSl",
        "URcubihZkFum",
        "wZz2JZB_kORz",
        "mHXHJG1QyIIB",
        "zu_zkpA-zaJW"
      ],
      "toc_visible": true
    },
    "kernelspec": {
      "display_name": "Python 3",
      "name": "python3"
    },
    "language_info": {
      "name": "python"
    }
  },
  "cells": [
    {
      "cell_type": "code",
      "metadata": {
        "id": "vFzCvvnveCbb"
      },
      "source": [
        "import numpy as np\n",
        "import pandas as pd\n",
        "import re\n",
        "import matplotlib.pyplot as plt\n",
        "\n",
        "import seaborn as sns\n",
        "sns.set(color_codes=True)\n",
        "student_df= pd.read_csv(\"/content/drive/MyDrive/Colab Notebooks/Data Science/EDA_prjt/COVID-19 Survey Student Responses.csv\")"
      ],
      "execution_count": 2,
      "outputs": []
    },
    {
      "cell_type": "code",
      "metadata": {
        "colab": {
          "base_uri": "https://localhost:8080/",
          "height": 521
        },
        "id": "d0atWHMzedBq",
        "outputId": "ddff4345-e1e4-4345-a233-d95562ffb715"
      },
      "source": [
        "student_df.head(5)"
      ],
      "execution_count": 3,
      "outputs": [
        {
          "output_type": "execute_result",
          "data": {
            "text/html": [
              "<div>\n",
              "<style scoped>\n",
              "    .dataframe tbody tr th:only-of-type {\n",
              "        vertical-align: middle;\n",
              "    }\n",
              "\n",
              "    .dataframe tbody tr th {\n",
              "        vertical-align: top;\n",
              "    }\n",
              "\n",
              "    .dataframe thead th {\n",
              "        text-align: right;\n",
              "    }\n",
              "</style>\n",
              "<table border=\"1\" class=\"dataframe\">\n",
              "  <thead>\n",
              "    <tr style=\"text-align: right;\">\n",
              "      <th></th>\n",
              "      <th>ID</th>\n",
              "      <th>Region of residence</th>\n",
              "      <th>Age of Subject</th>\n",
              "      <th>Time spent on Online Class</th>\n",
              "      <th>Rating of Online Class experience</th>\n",
              "      <th>Medium for online class</th>\n",
              "      <th>Time spent on self study</th>\n",
              "      <th>Time spent on fitness</th>\n",
              "      <th>Time spent on sleep</th>\n",
              "      <th>Time spent on social media</th>\n",
              "      <th>Prefered social media platform</th>\n",
              "      <th>Time spent on TV</th>\n",
              "      <th>Number of meals per day</th>\n",
              "      <th>Change in your weight</th>\n",
              "      <th>Health issue during lockdown</th>\n",
              "      <th>Stress busters</th>\n",
              "      <th>Time utilized</th>\n",
              "      <th>Do you find yourself more connected with your family, close friends , relatives  ?</th>\n",
              "      <th>What you miss the most</th>\n",
              "    </tr>\n",
              "  </thead>\n",
              "  <tbody>\n",
              "    <tr>\n",
              "      <th>0</th>\n",
              "      <td>R1</td>\n",
              "      <td>Delhi-NCR</td>\n",
              "      <td>21</td>\n",
              "      <td>2.0</td>\n",
              "      <td>Good</td>\n",
              "      <td>Laptop/Desktop</td>\n",
              "      <td>4.0</td>\n",
              "      <td>0.0</td>\n",
              "      <td>7.0</td>\n",
              "      <td>3.0</td>\n",
              "      <td>Linkedin</td>\n",
              "      <td>1</td>\n",
              "      <td>4</td>\n",
              "      <td>Increased</td>\n",
              "      <td>NO</td>\n",
              "      <td>Cooking</td>\n",
              "      <td>YES</td>\n",
              "      <td>YES</td>\n",
              "      <td>School/college</td>\n",
              "    </tr>\n",
              "    <tr>\n",
              "      <th>1</th>\n",
              "      <td>R2</td>\n",
              "      <td>Delhi-NCR</td>\n",
              "      <td>21</td>\n",
              "      <td>0.0</td>\n",
              "      <td>Excellent</td>\n",
              "      <td>Smartphone</td>\n",
              "      <td>0.0</td>\n",
              "      <td>2.0</td>\n",
              "      <td>10.0</td>\n",
              "      <td>3.0</td>\n",
              "      <td>Youtube</td>\n",
              "      <td>0</td>\n",
              "      <td>3</td>\n",
              "      <td>Decreased</td>\n",
              "      <td>NO</td>\n",
              "      <td>Scrolling through social media</td>\n",
              "      <td>YES</td>\n",
              "      <td>NO</td>\n",
              "      <td>Roaming around freely</td>\n",
              "    </tr>\n",
              "    <tr>\n",
              "      <th>2</th>\n",
              "      <td>R3</td>\n",
              "      <td>Delhi-NCR</td>\n",
              "      <td>20</td>\n",
              "      <td>7.0</td>\n",
              "      <td>Very poor</td>\n",
              "      <td>Laptop/Desktop</td>\n",
              "      <td>3.0</td>\n",
              "      <td>0.0</td>\n",
              "      <td>6.0</td>\n",
              "      <td>2.0</td>\n",
              "      <td>Linkedin</td>\n",
              "      <td>0</td>\n",
              "      <td>3</td>\n",
              "      <td>Remain Constant</td>\n",
              "      <td>NO</td>\n",
              "      <td>Listening to music</td>\n",
              "      <td>NO</td>\n",
              "      <td>YES</td>\n",
              "      <td>Travelling</td>\n",
              "    </tr>\n",
              "    <tr>\n",
              "      <th>3</th>\n",
              "      <td>R4</td>\n",
              "      <td>Delhi-NCR</td>\n",
              "      <td>20</td>\n",
              "      <td>3.0</td>\n",
              "      <td>Very poor</td>\n",
              "      <td>Smartphone</td>\n",
              "      <td>2.0</td>\n",
              "      <td>1.0</td>\n",
              "      <td>6.0</td>\n",
              "      <td>5.0</td>\n",
              "      <td>Instagram</td>\n",
              "      <td>0</td>\n",
              "      <td>3</td>\n",
              "      <td>Decreased</td>\n",
              "      <td>NO</td>\n",
              "      <td>Watching web series</td>\n",
              "      <td>NO</td>\n",
              "      <td>NO</td>\n",
              "      <td>Friends , relatives</td>\n",
              "    </tr>\n",
              "    <tr>\n",
              "      <th>4</th>\n",
              "      <td>R5</td>\n",
              "      <td>Delhi-NCR</td>\n",
              "      <td>21</td>\n",
              "      <td>3.0</td>\n",
              "      <td>Good</td>\n",
              "      <td>Laptop/Desktop</td>\n",
              "      <td>3.0</td>\n",
              "      <td>1.0</td>\n",
              "      <td>8.0</td>\n",
              "      <td>3.0</td>\n",
              "      <td>Instagram</td>\n",
              "      <td>1</td>\n",
              "      <td>4</td>\n",
              "      <td>Remain Constant</td>\n",
              "      <td>NO</td>\n",
              "      <td>Social Media</td>\n",
              "      <td>NO</td>\n",
              "      <td>NO</td>\n",
              "      <td>Travelling</td>\n",
              "    </tr>\n",
              "  </tbody>\n",
              "</table>\n",
              "</div>"
            ],
            "text/plain": [
              "   ID  ... What you miss the most\n",
              "0  R1  ...         School/college\n",
              "1  R2  ...  Roaming around freely\n",
              "2  R3  ...             Travelling\n",
              "3  R4  ...    Friends , relatives\n",
              "4  R5  ...             Travelling\n",
              "\n",
              "[5 rows x 19 columns]"
            ]
          },
          "metadata": {},
          "execution_count": 3
        }
      ]
    },
    {
      "cell_type": "code",
      "metadata": {
        "id": "GwVhq-26ejhd"
      },
      "source": [
        "student_df.info()"
      ],
      "execution_count": null,
      "outputs": []
    },
    {
      "cell_type": "markdown",
      "metadata": {
        "id": "5gexlbbofHdc"
      },
      "source": [
        "#From info we came to know that \"Time spent on TV\" is in object data type\n",
        "\n",
        "## lets check its values"
      ]
    },
    {
      "cell_type": "code",
      "metadata": {
        "id": "Pt4sE28sjQld"
      },
      "source": [
        "student_df[\"Time spent on TV\"].value_counts()"
      ],
      "execution_count": null,
      "outputs": []
    },
    {
      "cell_type": "markdown",
      "metadata": {
        "id": "wpjloyL5e-T7"
      },
      "source": [
        "# Yes...It seems to be instead of Zero hours, some members given N, n..\n",
        "## We will convert it into proper data type which is Float.\n"
      ]
    },
    {
      "cell_type": "code",
      "metadata": {
        "id": "L-8CD0vHfxPb"
      },
      "source": [
        "for i in range(len(student_df[\"Time spent on TV\"])):\n",
        "\n",
        "  try:\n",
        "   if (float(student_df[\"Time spent on TV\"][i])/ float(student_df[\"Time spent on TV\"][i]) == 1):\n",
        "     student_df[\"Time spent on TV\"][i]= float(student_df[\"Time spent on TV\"][i])\n",
        "     \n",
        "  except ZeroDivisionError :\n",
        "    student_df[\"Time spent on TV\"][i]= 0     \n",
        "  except TypeError :\n",
        "    student_df[\"Time spent on TV\"][i]= 0\n",
        "  except ValueError :\n",
        "    student_df[\"Time spent on TV\"][i]= 0  \n",
        " "
      ],
      "execution_count": null,
      "outputs": []
    },
    {
      "cell_type": "code",
      "metadata": {
        "colab": {
          "base_uri": "https://localhost:8080/"
        },
        "id": "HJVkWUgxep-T",
        "outputId": "12c47bd1-79b7-4bd8-a07f-e36cd6dbddc6"
      },
      "source": [
        "student_df[\"Time spent on TV\"].value_counts()"
      ],
      "execution_count": 8,
      "outputs": [
        {
          "output_type": "execute_result",
          "data": {
            "text/plain": [
              "0.00     454\n",
              "1.00     306\n",
              "2.00     207\n",
              "0.50      78\n",
              "3.00      50\n",
              "4.00      24\n",
              "1.50      14\n",
              "0.30      12\n",
              "5.00      10\n",
              "6.00       9\n",
              "0.10       4\n",
              "8.00       2\n",
              "7.00       2\n",
              "4.50       2\n",
              "2.50       2\n",
              "3.50       1\n",
              "0.40       1\n",
              "15.00      1\n",
              "0.75       1\n",
              "0.25       1\n",
              "0.60       1\n",
              "Name: Time spent on TV, dtype: int64"
            ]
          },
          "metadata": {},
          "execution_count": 8
        }
      ]
    },
    {
      "cell_type": "code",
      "metadata": {
        "id": "vgsf77_ufxVJ"
      },
      "source": [
        "student_df[\"Time spent on TV\"]= student_df[\"Time spent on TV\"].astype(float)"
      ],
      "execution_count": 9,
      "outputs": []
    },
    {
      "cell_type": "code",
      "metadata": {
        "colab": {
          "base_uri": "https://localhost:8080/"
        },
        "id": "30q49JpYfxdY",
        "outputId": "4d735ea4-bc59-405c-8571-eed269b38b16"
      },
      "source": [
        "student_df.info()"
      ],
      "execution_count": 10,
      "outputs": [
        {
          "output_type": "stream",
          "name": "stdout",
          "text": [
            "<class 'pandas.core.frame.DataFrame'>\n",
            "RangeIndex: 1182 entries, 0 to 1181\n",
            "Data columns (total 19 columns):\n",
            " #   Column                                                                              Non-Null Count  Dtype  \n",
            "---  ------                                                                              --------------  -----  \n",
            " 0   ID                                                                                  1182 non-null   object \n",
            " 1   Region of residence                                                                 1182 non-null   object \n",
            " 2   Age of Subject                                                                      1182 non-null   int64  \n",
            " 3   Time spent on Online Class                                                          1182 non-null   float64\n",
            " 4   Rating of Online Class experience                                                   1158 non-null   object \n",
            " 5   Medium for online class                                                             1131 non-null   object \n",
            " 6   Time spent on self study                                                            1182 non-null   float64\n",
            " 7   Time spent on fitness                                                               1182 non-null   float64\n",
            " 8   Time spent on sleep                                                                 1182 non-null   float64\n",
            " 9   Time spent on social media                                                          1182 non-null   float64\n",
            " 10  Prefered social media platform                                                      1182 non-null   object \n",
            " 11  Time spent on TV                                                                    1182 non-null   float64\n",
            " 12  Number of meals per day                                                             1182 non-null   int64  \n",
            " 13  Change in your weight                                                               1182 non-null   object \n",
            " 14  Health issue during lockdown                                                        1182 non-null   object \n",
            " 15  Stress busters                                                                      1182 non-null   object \n",
            " 16  Time utilized                                                                       1182 non-null   object \n",
            " 17  Do you find yourself more connected with your family, close friends , relatives  ?  1182 non-null   object \n",
            " 18  What you miss the most                                                              1182 non-null   object \n",
            "dtypes: float64(6), int64(2), object(11)\n",
            "memory usage: 175.6+ KB\n"
          ]
        }
      ]
    },
    {
      "cell_type": "markdown",
      "metadata": {
        "id": "cCnWH8Htlmij"
      },
      "source": [
        "#Finally Converted the Object datatype to Float datatype for Time spent on TV\n",
        "\n",
        "# Then When we check the values of prefered  Social media platfoms....."
      ]
    },
    {
      "cell_type": "code",
      "metadata": {
        "colab": {
          "base_uri": "https://localhost:8080/"
        },
        "id": "pF68SljKmPF9",
        "outputId": "10d7fe17-631b-4b51-a771-7a101af501e9"
      },
      "source": [
        "student_df [\"Prefered social media platform\"].unique()"
      ],
      "execution_count": 11,
      "outputs": [
        {
          "output_type": "execute_result",
          "data": {
            "text/plain": [
              "array(['Linkedin', 'Youtube', 'Instagram', 'Whatsapp', 'None', 'Reddit',\n",
              "       'Snapchat', 'Omegle', 'Twitter', 'Telegram', 'Facebook', 'Elyment',\n",
              "       'None ', 'Quora', 'Talklife', 'WhatsApp'], dtype=object)"
            ]
          },
          "metadata": {},
          "execution_count": 11
        }
      ]
    },
    {
      "cell_type": "markdown",
      "metadata": {
        "id": "IZZrlIhElmuY"
      },
      "source": [
        "#There are different Social media platforms being used but we consider only the popular ones and rest we will assign as others\n",
        "##Here is the list of consideration\n",
        "###Instagram, Whatsapp, Youtube, Linkedin, Facebook, Twitter, None, Others"
      ]
    },
    {
      "cell_type": "code",
      "metadata": {
        "colab": {
          "base_uri": "https://localhost:8080/"
        },
        "id": "gcxtZx9MnUtR",
        "outputId": "aac69d57-3816-451e-a1de-305b45c0ee62"
      },
      "source": [
        "\n",
        "for i in range(len(student_df [\"Prefered social media platform\"])):\n",
        "  if student_df [\"Prefered social media platform\"][i].lower().strip() in ['instagram', 'whatsapp', 'youtube','linkedin', 'facebook', 'twitter', 'none']:\n",
        "    student_df [\"Prefered social media platform\"][i]= student_df [\"Prefered social media platform\"][i].upper().strip()\n",
        "  else:\n",
        "    student_df [\"Prefered social media platform\"][i]= \"OTHERS\"   \n",
        "print(student_df [\"Prefered social media platform\"])"
      ],
      "execution_count": 12,
      "outputs": [
        {
          "output_type": "stream",
          "name": "stdout",
          "text": [
            "0        LINKEDIN\n",
            "1         YOUTUBE\n",
            "2        LINKEDIN\n",
            "3       INSTAGRAM\n",
            "4       INSTAGRAM\n",
            "          ...    \n",
            "1177    INSTAGRAM\n",
            "1178     WHATSAPP\n",
            "1179      YOUTUBE\n",
            "1180      YOUTUBE\n",
            "1181     WHATSAPP\n",
            "Name: Prefered social media platform, Length: 1182, dtype: object\n"
          ]
        },
        {
          "output_type": "stream",
          "name": "stderr",
          "text": [
            "/usr/local/lib/python3.7/dist-packages/ipykernel_launcher.py:4: SettingWithCopyWarning: \n",
            "A value is trying to be set on a copy of a slice from a DataFrame\n",
            "\n",
            "See the caveats in the documentation: https://pandas.pydata.org/pandas-docs/stable/user_guide/indexing.html#returning-a-view-versus-a-copy\n",
            "  after removing the cwd from sys.path.\n",
            "/usr/local/lib/python3.7/dist-packages/ipykernel_launcher.py:6: SettingWithCopyWarning: \n",
            "A value is trying to be set on a copy of a slice from a DataFrame\n",
            "\n",
            "See the caveats in the documentation: https://pandas.pydata.org/pandas-docs/stable/user_guide/indexing.html#returning-a-view-versus-a-copy\n",
            "  \n"
          ]
        }
      ]
    },
    {
      "cell_type": "code",
      "metadata": {
        "colab": {
          "base_uri": "https://localhost:8080/"
        },
        "id": "iI2VZQpmof7o",
        "outputId": "6dab3a42-69b1-48f0-dbc6-4accb41bd66f"
      },
      "source": [
        "student_df [\"Prefered social media platform\"].value_counts()"
      ],
      "execution_count": 13,
      "outputs": [
        {
          "output_type": "execute_result",
          "data": {
            "text/plain": [
              "INSTAGRAM    352\n",
              "WHATSAPP     337\n",
              "YOUTUBE      314\n",
              "LINKEDIN      61\n",
              "FACEBOOK      52\n",
              "TWITTER       28\n",
              "OTHERS        20\n",
              "NONE          18\n",
              "Name: Prefered social media platform, dtype: int64"
            ]
          },
          "metadata": {},
          "execution_count": 13
        }
      ]
    },
    {
      "cell_type": "markdown",
      "metadata": {
        "id": "ov9DeqrluCS7"
      },
      "source": [
        "#For \"What you miss most\" we wll check the unique results"
      ]
    },
    {
      "cell_type": "code",
      "metadata": {
        "colab": {
          "base_uri": "https://localhost:8080/"
        },
        "id": "v1Dujkveve88",
        "outputId": "4fb344dc-c767-49fb-a30b-d4ebfecf781b"
      },
      "source": [
        "student_df [\"What you miss the most\"].value_counts()"
      ],
      "execution_count": 14,
      "outputs": [
        {
          "output_type": "execute_result",
          "data": {
            "text/plain": [
              "School/college                                                                                                                                                                                                              379\n",
              "Friends , relatives                                                                                                                                                                                                         223\n",
              "Travelling                                                                                                                                                                                                                  183\n",
              "Roaming around freely                                                                                                                                                                                                       149\n",
              "Eating outside                                                                                                                                                                                                              104\n",
              "Colleagues                                                                                                                                                                                                                   67\n",
              "Nothing                                                                                                                                                                                                                      11\n",
              "ALL                                                                                                                                                                                                                           9\n",
              "All                                                                                                                                                                                                                           9\n",
              "Gym                                                                                                                                                                                                                           4\n",
              "Only friends                                                                                                                                                                                                                  2\n",
              "nothing                                                                                                                                                                                                                       2\n",
              "NOTHING                                                                                                                                                                                                                       2\n",
              "Previous mistakes                                                                                                                                                                                                             1\n",
              "Family                                                                                                                                                                                                                        1\n",
              "Friends and School                                                                                                                                                                                                            1\n",
              "All the above                                                                                                                                                                                                                 1\n",
              "All of them                                                                                                                                                                                                                   1\n",
              "Being social                                                                                                                                                                                                                  1\n",
              "To stay alone.                                                                                                                                                                                                                1\n",
              "Normal life                                                                                                                                                                                                                   1\n",
              "Family                                                                                                                                                                                                                        1\n",
              "Badminton in court                                                                                                                                                                                                            1\n",
              "All of the above                                                                                                                                                                                                              1\n",
              "Football                                                                                                                                                                                                                      1\n",
              "School and my school friends                                                                                                                                                                                                  1\n",
              "all of the above                                                                                                                                                                                                              1\n",
              "Going to the movies                                                                                                                                                                                                           1\n",
              "Nothing                                                                                                                                                                                                                       1\n",
              "Nothing this is my usual life                                                                                                                                                                                                 1\n",
              "Friends, relatives & travelling                                                                                                                                                                                               1\n",
              "Job                                                                                                                                                                                                                           1\n",
              "Internet                                                                                                                                                                                                                      1\n",
              "My normal routine                                                                                                                                                                                                             1\n",
              "The idea of being around fun loving people but this time has certainly made us all to reconnect (and fill the gap if any) with our families and relatives so it is fun but certainly we do miss hanging out with friends      1\n",
              "All                                                                                                                                                                                                                           1\n",
              "Friends,Romaing and traveling                                                                                                                                                                                                 1\n",
              "I have missed nothing                                                                                                                                                                                                         1\n",
              "everything                                                                                                                                                                                                                    1\n",
              "Playing                                                                                                                                                                                                                       1\n",
              "all                                                                                                                                                                                                                           1\n",
              "Nah, this is my usual lifestyle anyway, just being lazy....                                                                                                                                                                   1\n",
              "Metro                                                                                                                                                                                                                         1\n",
              "Friends and roaming around freely                                                                                                                                                                                             1\n",
              "School and friends.                                                                                                                                                                                                           1\n",
              "school, relatives and friends                                                                                                                                                                                                 1\n",
              "All above                                                                                                                                                                                                                     1\n",
              "Eating outside and friends.                                                                                                                                                                                                   1\n",
              "Travelling & Friends                                                                                                                                                                                                          1\n",
              "Taking kids to park                                                                                                                                                                                                           1\n",
              ".                                                                                                                                                                                                                             1\n",
              "Name: What you miss the most, dtype: int64"
            ]
          },
          "metadata": {},
          "execution_count": 14
        }
      ]
    },
    {
      "cell_type": "markdown",
      "metadata": {
        "id": "EYiOV7_xvvv6"
      },
      "source": [
        "#It Seems to be there are lot of people  missing too many things :P\n",
        "# We will try to separate  results into three main categories\n",
        "#1) People\n",
        "#2) Travel\n",
        "#3) Eating\n",
        "#4) All\n",
        "#5) Others"
      ]
    },
    {
      "cell_type": "markdown",
      "metadata": {
        "id": "RpG2qDtMwyuB"
      },
      "source": [
        "##Trigger_words\n",
        "###people= 'friends', 'relative', 'colleagues', 'family', 'people', 'social', 'school', 'college', 'relatives'\n",
        "###travel= 'travelling', 'roaming', 'metro', 'romaing', 'going'\n",
        "###eating= 'eating', ' eat'\n",
        "###all= 'all', 'normal', 'everything'"
      ]
    },
    {
      "cell_type": "code",
      "metadata": {
        "id": "Rn4M6Cq5vs9Y"
      },
      "source": [
        "people= 'friends', 'relative', 'colleagues', 'family', 'people', 'social', 'school', 'college','relatives'\n",
        "travel= 'travelling', 'roaming', 'metro', 'romaing', 'going'\n",
        "eating= 'eating', ' eat'\n",
        "all= 'all', 'normal', 'everything'\n",
        "l=list(student_df [\"What you miss the most\"].unique())"
      ],
      "execution_count": 15,
      "outputs": []
    },
    {
      "cell_type": "code",
      "metadata": {
        "id": "PYbInTutx9Q9"
      },
      "source": [
        "a=[]\n",
        "c=[]\n",
        "for i in l:\n",
        "  x= re.split(', |,| , |  |/| ', i.strip())  \n",
        "  b=[] \n",
        "  for j in x:     \n",
        "    if j.lower() in people:\n",
        "      b.append(\"people\")      \n",
        "    elif j.lower() in  travel:\n",
        "      b.append(\"travel\")      \n",
        "    elif j.lower() in  eating:\n",
        "      b.append(\"eating\") \n",
        "    elif j.lower() in  all:\n",
        "      b.append(\"all\")         \n",
        "    else:\n",
        "      b.append(\"others\") \n",
        "  a.append(b)\n",
        "for i in range(len(a)):  \n",
        "   if (\"people\" in a[i]) & (\"travel\" in a[i]) :\n",
        "     c.append(\"all\")\n",
        "     continue\n",
        "   if  (\"people\" in a[i]) & (\"eating\" in a[i]):\n",
        "     c.append(\"all\")\n",
        "     continue\n",
        "   if  (\"travel\" in a[i]) & (\"eating\" in a[i]):\n",
        "     c.append(\"all\")\n",
        "     continue\n",
        "   if \"all\" in a[i]:\n",
        "     c.append(\"all\") \n",
        "     continue\n",
        "   if (\"people\" in a[i]):\n",
        "     c.append(\"people\")\n",
        "     continue\n",
        "   if (\"travel\" in a[i]):\n",
        "     c.append(\"travel\")  \n",
        "     continue\n",
        "   if (\"eating\" in a[i]):\n",
        "     c.append(\"eating\") \n",
        "     continue \n",
        "   else:\n",
        "     c.append(\"others\")    \n"
      ],
      "execution_count": 16,
      "outputs": []
    },
    {
      "cell_type": "code",
      "metadata": {
        "id": "EBdNhvyYx9WC"
      },
      "source": [
        "for i in range(len(c)):\n",
        "  print(l[i],\"---\",c[i])"
      ],
      "execution_count": null,
      "outputs": []
    },
    {
      "cell_type": "markdown",
      "metadata": {
        "id": "BlQM_Y1fy7o2"
      },
      "source": [
        "##It Seems to be that our category seperation is a blockbuster success.\n",
        "## We will implement in actual dataframe then..."
      ]
    },
    {
      "cell_type": "code",
      "metadata": {
        "id": "6ljo220Vx9bU"
      },
      "source": [
        "a=[]\n",
        "c=[]\n",
        "for i in student_df [\"What you miss the most\"]:\n",
        "  x= re.split(', |,| , |  |/| ', i.strip())  \n",
        "  b=[] \n",
        "  for j in x:     \n",
        "    if j.lower() in people:\n",
        "      b.append(\"people\")      \n",
        "    elif j.lower() in  travel:\n",
        "      b.append(\"travel\")      \n",
        "    elif j.lower() in  eating:\n",
        "      b.append(\"eating\") \n",
        "    elif j.lower() in  all:\n",
        "      b.append(\"all\")         \n",
        "    else:\n",
        "      b.append(\"others\") \n",
        "  a.append(b)\n",
        "for i in range(len(a)):  \n",
        "   if (\"people\" in a[i]) & (\"travel\" in a[i]) :\n",
        "     c.append(\"all\")\n",
        "     continue\n",
        "   if  (\"people\" in a[i]) & (\"eating\" in a[i]):\n",
        "     c.append(\"all\")\n",
        "     continue\n",
        "   if  (\"travel\" in a[i]) & (\"eating\" in a[i]):\n",
        "     c.append(\"all\")\n",
        "     continue\n",
        "   if \"all\" in a[i]:\n",
        "     c.append(\"all\") \n",
        "     continue\n",
        "   if (\"people\" in a[i]):\n",
        "     c.append(\"people\")\n",
        "     continue\n",
        "   if (\"travel\" in a[i]):\n",
        "     c.append(\"travel\")  \n",
        "     continue\n",
        "   if (\"eating\" in a[i]):\n",
        "     c.append(\"eating\") \n",
        "     continue \n",
        "   else:\n",
        "     c.append(\"others\")    \n"
      ],
      "execution_count": 18,
      "outputs": []
    },
    {
      "cell_type": "code",
      "metadata": {
        "colab": {
          "base_uri": "https://localhost:8080/"
        },
        "id": "3rxKJNayx9eg",
        "outputId": "f1d4dcc6-5594-4115-89ce-11f75c0aa3b3"
      },
      "source": [
        "len(c)"
      ],
      "execution_count": 20,
      "outputs": [
        {
          "output_type": "execute_result",
          "data": {
            "text/plain": [
              "1182"
            ]
          },
          "metadata": {},
          "execution_count": 20
        }
      ]
    },
    {
      "cell_type": "code",
      "metadata": {
        "id": "4QsSFxTjzhxk"
      },
      "source": [
        "student_df [\"What you miss the most\"]= c"
      ],
      "execution_count": 21,
      "outputs": []
    },
    {
      "cell_type": "code",
      "metadata": {
        "colab": {
          "base_uri": "https://localhost:8080/"
        },
        "id": "Fkh9XpNCznuB",
        "outputId": "155fab8f-7c48-4407-cddc-27ed302f71e8"
      },
      "source": [
        "student_df[\"What you miss the most\"].value_counts()"
      ],
      "execution_count": 22,
      "outputs": [
        {
          "output_type": "execute_result",
          "data": {
            "text/plain": [
              "people    678\n",
              "travel    334\n",
              "eating    105\n",
              "all        33\n",
              "others     32\n",
              "Name: What you miss the most, dtype: int64"
            ]
          },
          "metadata": {},
          "execution_count": 22
        }
      ]
    },
    {
      "cell_type": "code",
      "metadata": {
        "id": "Sv2u2pxgzw1a"
      },
      "source": [
        "student_df.head()"
      ],
      "execution_count": null,
      "outputs": []
    },
    {
      "cell_type": "markdown",
      "metadata": {
        "id": "fAHrc_T4N-WR"
      },
      "source": [
        "#We found that \"Online class Rating\" and \"Medium of online class\" has some missing values.\n",
        "\n",
        "#As Online class is Ordianl Qualitative data, We will fill the Missing value with Median value\n",
        "\n",
        "#As for the \"Medium of online class\" falls under Nominal Categorical data, We will fill the missing value by Mode value "
      ]
    },
    {
      "cell_type": "code",
      "metadata": {
        "colab": {
          "base_uri": "https://localhost:8080/"
        },
        "id": "1W3WqKhV20iG",
        "outputId": "f15e699e-51ef-433e-beb7-e1d7cdc35439"
      },
      "source": [
        "student_df [\"Rating of Online Class experience\"].value_counts()"
      ],
      "execution_count": 24,
      "outputs": [
        {
          "output_type": "execute_result",
          "data": {
            "text/plain": [
              "Very poor    413\n",
              "Average      387\n",
              "Good         230\n",
              "Excellent     98\n",
              "Poor          30\n",
              "Name: Rating of Online Class experience, dtype: int64"
            ]
          },
          "metadata": {},
          "execution_count": 24
        }
      ]
    },
    {
      "cell_type": "markdown",
      "metadata": {
        "id": "8rdqlvyzP-qm"
      },
      "source": [
        "##Very Poor -1\n",
        "##Poor-2\n",
        "##Average- 3\n",
        "##Good-4\n",
        "##Excellent- 5\n",
        "## If we convert these categories into Number and arrange it in order, then we can find the median(Middle Value).\n",
        "### Its clearly visible that the middle value is \"Average\".\n",
        "### Very poor + Poor= 443 (< 50% of data)\n",
        "### Very poor + Poor + Average = 830 (nearly 70% of data)\n",
        "## Filling Missing Review with \"Average\"\n"
      ]
    },
    {
      "cell_type": "code",
      "metadata": {
        "id": "623rCIKi0c16"
      },
      "source": [
        "student_df [\"Rating of Online Class experience\"].fillna(\"Average\", inplace= True)"
      ],
      "execution_count": 25,
      "outputs": []
    },
    {
      "cell_type": "code",
      "metadata": {
        "colab": {
          "base_uri": "https://localhost:8080/"
        },
        "id": "e9FUpzseSqaO",
        "outputId": "b3286849-1708-4c5c-e575-497bac10c4eb"
      },
      "source": [
        "student_df [\"Rating of Online Class experience\"].unique()"
      ],
      "execution_count": 26,
      "outputs": [
        {
          "output_type": "execute_result",
          "data": {
            "text/plain": [
              "array(['Good', 'Excellent', 'Very poor', 'Average', 'Poor'], dtype=object)"
            ]
          },
          "metadata": {},
          "execution_count": 26
        }
      ]
    },
    {
      "cell_type": "code",
      "metadata": {
        "colab": {
          "base_uri": "https://localhost:8080/"
        },
        "id": "1UPqC3xMSzwF",
        "outputId": "264161f1-b085-4289-bfeb-53b057232076"
      },
      "source": [
        "student_df [\"Medium for online class\"].unique()"
      ],
      "execution_count": 27,
      "outputs": [
        {
          "output_type": "execute_result",
          "data": {
            "text/plain": [
              "array(['Laptop/Desktop', 'Smartphone', 'Tablet', nan, 'Any Gadget',\n",
              "       'Smartphone or Laptop/Desktop'], dtype=object)"
            ]
          },
          "metadata": {},
          "execution_count": 27
        }
      ]
    },
    {
      "cell_type": "code",
      "metadata": {
        "colab": {
          "base_uri": "https://localhost:8080/"
        },
        "id": "qMCocD7MSz3X",
        "outputId": "0afc358c-e826-4f58-f86b-ecabd67c0f29"
      },
      "source": [
        "student_df [\"Medium for online class\"].value_counts()"
      ],
      "execution_count": 28,
      "outputs": [
        {
          "output_type": "execute_result",
          "data": {
            "text/plain": [
              "Laptop/Desktop                  545\n",
              "Smartphone                      539\n",
              "Tablet                           37\n",
              "Smartphone or Laptop/Desktop      5\n",
              "Any Gadget                        5\n",
              "Name: Medium for online class, dtype: int64"
            ]
          },
          "metadata": {},
          "execution_count": 28
        }
      ]
    },
    {
      "cell_type": "markdown",
      "metadata": {
        "id": "vEcK-6JATyEA"
      },
      "source": [
        "#As Laptop/Desktop  has highest count value, We will fill the missing value with Laptop/Desktop"
      ]
    },
    {
      "cell_type": "code",
      "metadata": {
        "id": "ttU9ZQdxSz_k"
      },
      "source": [
        "student_df [\"Medium for online class\"].fillna(\"Laptop/Desktop\", inplace= True)"
      ],
      "execution_count": 29,
      "outputs": []
    },
    {
      "cell_type": "code",
      "metadata": {
        "colab": {
          "base_uri": "https://localhost:8080/"
        },
        "id": "OsbyEHsDS0F0",
        "outputId": "c6640411-d2ba-43be-88ab-ffc213b238d7"
      },
      "source": [
        "student_df [\"Medium for online class\"].unique()"
      ],
      "execution_count": 30,
      "outputs": [
        {
          "output_type": "execute_result",
          "data": {
            "text/plain": [
              "array(['Laptop/Desktop', 'Smartphone', 'Tablet', 'Any Gadget',\n",
              "       'Smartphone or Laptop/Desktop'], dtype=object)"
            ]
          },
          "metadata": {},
          "execution_count": 30
        }
      ]
    },
    {
      "cell_type": "code",
      "metadata": {
        "colab": {
          "base_uri": "https://localhost:8080/"
        },
        "id": "8lahAo88z048",
        "outputId": "00376a65-ac20-4bb9-d677-cc84f4470b6b"
      },
      "source": [
        "student_df.info()"
      ],
      "execution_count": 31,
      "outputs": [
        {
          "output_type": "stream",
          "name": "stdout",
          "text": [
            "<class 'pandas.core.frame.DataFrame'>\n",
            "RangeIndex: 1182 entries, 0 to 1181\n",
            "Data columns (total 19 columns):\n",
            " #   Column                                                                              Non-Null Count  Dtype  \n",
            "---  ------                                                                              --------------  -----  \n",
            " 0   ID                                                                                  1182 non-null   object \n",
            " 1   Region of residence                                                                 1182 non-null   object \n",
            " 2   Age of Subject                                                                      1182 non-null   int64  \n",
            " 3   Time spent on Online Class                                                          1182 non-null   float64\n",
            " 4   Rating of Online Class experience                                                   1182 non-null   object \n",
            " 5   Medium for online class                                                             1182 non-null   object \n",
            " 6   Time spent on self study                                                            1182 non-null   float64\n",
            " 7   Time spent on fitness                                                               1182 non-null   float64\n",
            " 8   Time spent on sleep                                                                 1182 non-null   float64\n",
            " 9   Time spent on social media                                                          1182 non-null   float64\n",
            " 10  Prefered social media platform                                                      1182 non-null   object \n",
            " 11  Time spent on TV                                                                    1182 non-null   float64\n",
            " 12  Number of meals per day                                                             1182 non-null   int64  \n",
            " 13  Change in your weight                                                               1182 non-null   object \n",
            " 14  Health issue during lockdown                                                        1182 non-null   object \n",
            " 15  Stress busters                                                                      1182 non-null   object \n",
            " 16  Time utilized                                                                       1182 non-null   object \n",
            " 17  Do you find yourself more connected with your family, close friends , relatives  ?  1182 non-null   object \n",
            " 18  What you miss the most                                                              1182 non-null   object \n",
            "dtypes: float64(6), int64(2), object(11)\n",
            "memory usage: 175.6+ KB\n"
          ]
        }
      ]
    },
    {
      "cell_type": "code",
      "metadata": {
        "colab": {
          "base_uri": "https://localhost:8080/",
          "height": 521
        },
        "id": "Cs6HpF8KYlcU",
        "outputId": "c002dc81-7ede-4263-b277-50b7c310d7eb"
      },
      "source": [
        "student_df.head(5)"
      ],
      "execution_count": 32,
      "outputs": [
        {
          "output_type": "execute_result",
          "data": {
            "text/html": [
              "<div>\n",
              "<style scoped>\n",
              "    .dataframe tbody tr th:only-of-type {\n",
              "        vertical-align: middle;\n",
              "    }\n",
              "\n",
              "    .dataframe tbody tr th {\n",
              "        vertical-align: top;\n",
              "    }\n",
              "\n",
              "    .dataframe thead th {\n",
              "        text-align: right;\n",
              "    }\n",
              "</style>\n",
              "<table border=\"1\" class=\"dataframe\">\n",
              "  <thead>\n",
              "    <tr style=\"text-align: right;\">\n",
              "      <th></th>\n",
              "      <th>ID</th>\n",
              "      <th>Region of residence</th>\n",
              "      <th>Age of Subject</th>\n",
              "      <th>Time spent on Online Class</th>\n",
              "      <th>Rating of Online Class experience</th>\n",
              "      <th>Medium for online class</th>\n",
              "      <th>Time spent on self study</th>\n",
              "      <th>Time spent on fitness</th>\n",
              "      <th>Time spent on sleep</th>\n",
              "      <th>Time spent on social media</th>\n",
              "      <th>Prefered social media platform</th>\n",
              "      <th>Time spent on TV</th>\n",
              "      <th>Number of meals per day</th>\n",
              "      <th>Change in your weight</th>\n",
              "      <th>Health issue during lockdown</th>\n",
              "      <th>Stress busters</th>\n",
              "      <th>Time utilized</th>\n",
              "      <th>Do you find yourself more connected with your family, close friends , relatives  ?</th>\n",
              "      <th>What you miss the most</th>\n",
              "    </tr>\n",
              "  </thead>\n",
              "  <tbody>\n",
              "    <tr>\n",
              "      <th>0</th>\n",
              "      <td>R1</td>\n",
              "      <td>Delhi-NCR</td>\n",
              "      <td>21</td>\n",
              "      <td>2.0</td>\n",
              "      <td>Good</td>\n",
              "      <td>Laptop/Desktop</td>\n",
              "      <td>4.0</td>\n",
              "      <td>0.0</td>\n",
              "      <td>7.0</td>\n",
              "      <td>3.0</td>\n",
              "      <td>LINKEDIN</td>\n",
              "      <td>1.0</td>\n",
              "      <td>4</td>\n",
              "      <td>Increased</td>\n",
              "      <td>NO</td>\n",
              "      <td>Cooking</td>\n",
              "      <td>YES</td>\n",
              "      <td>YES</td>\n",
              "      <td>people</td>\n",
              "    </tr>\n",
              "    <tr>\n",
              "      <th>1</th>\n",
              "      <td>R2</td>\n",
              "      <td>Delhi-NCR</td>\n",
              "      <td>21</td>\n",
              "      <td>0.0</td>\n",
              "      <td>Excellent</td>\n",
              "      <td>Smartphone</td>\n",
              "      <td>0.0</td>\n",
              "      <td>2.0</td>\n",
              "      <td>10.0</td>\n",
              "      <td>3.0</td>\n",
              "      <td>YOUTUBE</td>\n",
              "      <td>0.0</td>\n",
              "      <td>3</td>\n",
              "      <td>Decreased</td>\n",
              "      <td>NO</td>\n",
              "      <td>Scrolling through social media</td>\n",
              "      <td>YES</td>\n",
              "      <td>NO</td>\n",
              "      <td>travel</td>\n",
              "    </tr>\n",
              "    <tr>\n",
              "      <th>2</th>\n",
              "      <td>R3</td>\n",
              "      <td>Delhi-NCR</td>\n",
              "      <td>20</td>\n",
              "      <td>7.0</td>\n",
              "      <td>Very poor</td>\n",
              "      <td>Laptop/Desktop</td>\n",
              "      <td>3.0</td>\n",
              "      <td>0.0</td>\n",
              "      <td>6.0</td>\n",
              "      <td>2.0</td>\n",
              "      <td>LINKEDIN</td>\n",
              "      <td>0.0</td>\n",
              "      <td>3</td>\n",
              "      <td>Remain Constant</td>\n",
              "      <td>NO</td>\n",
              "      <td>Listening to music</td>\n",
              "      <td>NO</td>\n",
              "      <td>YES</td>\n",
              "      <td>travel</td>\n",
              "    </tr>\n",
              "    <tr>\n",
              "      <th>3</th>\n",
              "      <td>R4</td>\n",
              "      <td>Delhi-NCR</td>\n",
              "      <td>20</td>\n",
              "      <td>3.0</td>\n",
              "      <td>Very poor</td>\n",
              "      <td>Smartphone</td>\n",
              "      <td>2.0</td>\n",
              "      <td>1.0</td>\n",
              "      <td>6.0</td>\n",
              "      <td>5.0</td>\n",
              "      <td>INSTAGRAM</td>\n",
              "      <td>0.0</td>\n",
              "      <td>3</td>\n",
              "      <td>Decreased</td>\n",
              "      <td>NO</td>\n",
              "      <td>Watching web series</td>\n",
              "      <td>NO</td>\n",
              "      <td>NO</td>\n",
              "      <td>people</td>\n",
              "    </tr>\n",
              "    <tr>\n",
              "      <th>4</th>\n",
              "      <td>R5</td>\n",
              "      <td>Delhi-NCR</td>\n",
              "      <td>21</td>\n",
              "      <td>3.0</td>\n",
              "      <td>Good</td>\n",
              "      <td>Laptop/Desktop</td>\n",
              "      <td>3.0</td>\n",
              "      <td>1.0</td>\n",
              "      <td>8.0</td>\n",
              "      <td>3.0</td>\n",
              "      <td>INSTAGRAM</td>\n",
              "      <td>1.0</td>\n",
              "      <td>4</td>\n",
              "      <td>Remain Constant</td>\n",
              "      <td>NO</td>\n",
              "      <td>Social Media</td>\n",
              "      <td>NO</td>\n",
              "      <td>NO</td>\n",
              "      <td>travel</td>\n",
              "    </tr>\n",
              "  </tbody>\n",
              "</table>\n",
              "</div>"
            ],
            "text/plain": [
              "   ID  ... What you miss the most\n",
              "0  R1  ...                 people\n",
              "1  R2  ...                 travel\n",
              "2  R3  ...                 travel\n",
              "3  R4  ...                 people\n",
              "4  R5  ...                 travel\n",
              "\n",
              "[5 rows x 19 columns]"
            ]
          },
          "metadata": {},
          "execution_count": 32
        }
      ]
    },
    {
      "cell_type": "code",
      "metadata": {
        "id": "B_vlWaCTYmKx"
      },
      "source": [
        ""
      ],
      "execution_count": null,
      "outputs": []
    },
    {
      "cell_type": "markdown",
      "metadata": {
        "id": "p3RrpAKhVLIs"
      },
      "source": [
        "#For analysis purpose we will create some columns"
      ]
    },
    {
      "cell_type": "markdown",
      "metadata": {
        "id": "9Rk5S1JRZWKF"
      },
      "source": [
        "###Extra coaching & Teaching"
      ]
    },
    {
      "cell_type": "code",
      "metadata": {
        "id": "rGa-n958Ukar"
      },
      "source": [
        "extra_tusion= []\n",
        "for i in range(len(student_df.ID)):\n",
        "  if (student_df[\"Time spent on Online Class\"][i] < 6.0) & (student_df[\"Rating of Online Class experience\"][i] in ['Very poor', 'Poor','Average']):\n",
        "    extra_tusion.append(1)\n",
        "   \n",
        "  else:\n",
        "    extra_tusion.append(0)\n",
        " \n"
      ],
      "execution_count": 33,
      "outputs": []
    },
    {
      "cell_type": "code",
      "metadata": {
        "colab": {
          "base_uri": "https://localhost:8080/"
        },
        "id": "Wt8x0-UgVJv5",
        "outputId": "314647ab-96e2-49bd-89e5-c9984ce2b3f8"
      },
      "source": [
        "len(extra_tusion)"
      ],
      "execution_count": 34,
      "outputs": [
        {
          "output_type": "execute_result",
          "data": {
            "text/plain": [
              "1182"
            ]
          },
          "metadata": {},
          "execution_count": 34
        }
      ]
    },
    {
      "cell_type": "code",
      "metadata": {
        "colab": {
          "base_uri": "https://localhost:8080/"
        },
        "id": "EOz1iXQoVJ4g",
        "outputId": "6d65943a-bbc5-4eae-a884-b25bf7ad7cd5"
      },
      "source": [
        "extra_tusion.count(1)"
      ],
      "execution_count": 35,
      "outputs": [
        {
          "output_type": "execute_result",
          "data": {
            "text/plain": [
              "745"
            ]
          },
          "metadata": {},
          "execution_count": 35
        }
      ]
    },
    {
      "cell_type": "code",
      "metadata": {
        "colab": {
          "base_uri": "https://localhost:8080/"
        },
        "id": "i_XDSIbtVJ_M",
        "outputId": "bfad735d-7cdc-468f-a651-b0d595f1eb63"
      },
      "source": [
        "extra_tusion.count(0)"
      ],
      "execution_count": 37,
      "outputs": [
        {
          "output_type": "execute_result",
          "data": {
            "text/plain": [
              "437"
            ]
          },
          "metadata": {},
          "execution_count": 37
        }
      ]
    },
    {
      "cell_type": "code",
      "metadata": {
        "id": "2EARbw51VKTb"
      },
      "source": [
        "student_df[\"Extra_coaching\"]= extra_tusion"
      ],
      "execution_count": 38,
      "outputs": []
    },
    {
      "cell_type": "code",
      "metadata": {
        "colab": {
          "base_uri": "https://localhost:8080/",
          "height": 521
        },
        "id": "oszseW7DVKaI",
        "outputId": "30715322-e83a-42e1-b466-2dbc68a08214"
      },
      "source": [
        "student_df.head()"
      ],
      "execution_count": 39,
      "outputs": [
        {
          "output_type": "execute_result",
          "data": {
            "text/html": [
              "<div>\n",
              "<style scoped>\n",
              "    .dataframe tbody tr th:only-of-type {\n",
              "        vertical-align: middle;\n",
              "    }\n",
              "\n",
              "    .dataframe tbody tr th {\n",
              "        vertical-align: top;\n",
              "    }\n",
              "\n",
              "    .dataframe thead th {\n",
              "        text-align: right;\n",
              "    }\n",
              "</style>\n",
              "<table border=\"1\" class=\"dataframe\">\n",
              "  <thead>\n",
              "    <tr style=\"text-align: right;\">\n",
              "      <th></th>\n",
              "      <th>ID</th>\n",
              "      <th>Region of residence</th>\n",
              "      <th>Age of Subject</th>\n",
              "      <th>Time spent on Online Class</th>\n",
              "      <th>Rating of Online Class experience</th>\n",
              "      <th>Medium for online class</th>\n",
              "      <th>Time spent on self study</th>\n",
              "      <th>Time spent on fitness</th>\n",
              "      <th>Time spent on sleep</th>\n",
              "      <th>Time spent on social media</th>\n",
              "      <th>Prefered social media platform</th>\n",
              "      <th>Time spent on TV</th>\n",
              "      <th>Number of meals per day</th>\n",
              "      <th>Change in your weight</th>\n",
              "      <th>Health issue during lockdown</th>\n",
              "      <th>Stress busters</th>\n",
              "      <th>Time utilized</th>\n",
              "      <th>Do you find yourself more connected with your family, close friends , relatives  ?</th>\n",
              "      <th>What you miss the most</th>\n",
              "      <th>Extra_coaching</th>\n",
              "    </tr>\n",
              "  </thead>\n",
              "  <tbody>\n",
              "    <tr>\n",
              "      <th>0</th>\n",
              "      <td>R1</td>\n",
              "      <td>Delhi-NCR</td>\n",
              "      <td>21</td>\n",
              "      <td>2.0</td>\n",
              "      <td>Good</td>\n",
              "      <td>Laptop/Desktop</td>\n",
              "      <td>4.0</td>\n",
              "      <td>0.0</td>\n",
              "      <td>7.0</td>\n",
              "      <td>3.0</td>\n",
              "      <td>LINKEDIN</td>\n",
              "      <td>1.0</td>\n",
              "      <td>4</td>\n",
              "      <td>Increased</td>\n",
              "      <td>NO</td>\n",
              "      <td>Cooking</td>\n",
              "      <td>YES</td>\n",
              "      <td>YES</td>\n",
              "      <td>people</td>\n",
              "      <td>0</td>\n",
              "    </tr>\n",
              "    <tr>\n",
              "      <th>1</th>\n",
              "      <td>R2</td>\n",
              "      <td>Delhi-NCR</td>\n",
              "      <td>21</td>\n",
              "      <td>0.0</td>\n",
              "      <td>Excellent</td>\n",
              "      <td>Smartphone</td>\n",
              "      <td>0.0</td>\n",
              "      <td>2.0</td>\n",
              "      <td>10.0</td>\n",
              "      <td>3.0</td>\n",
              "      <td>YOUTUBE</td>\n",
              "      <td>0.0</td>\n",
              "      <td>3</td>\n",
              "      <td>Decreased</td>\n",
              "      <td>NO</td>\n",
              "      <td>Scrolling through social media</td>\n",
              "      <td>YES</td>\n",
              "      <td>NO</td>\n",
              "      <td>travel</td>\n",
              "      <td>0</td>\n",
              "    </tr>\n",
              "    <tr>\n",
              "      <th>2</th>\n",
              "      <td>R3</td>\n",
              "      <td>Delhi-NCR</td>\n",
              "      <td>20</td>\n",
              "      <td>7.0</td>\n",
              "      <td>Very poor</td>\n",
              "      <td>Laptop/Desktop</td>\n",
              "      <td>3.0</td>\n",
              "      <td>0.0</td>\n",
              "      <td>6.0</td>\n",
              "      <td>2.0</td>\n",
              "      <td>LINKEDIN</td>\n",
              "      <td>0.0</td>\n",
              "      <td>3</td>\n",
              "      <td>Remain Constant</td>\n",
              "      <td>NO</td>\n",
              "      <td>Listening to music</td>\n",
              "      <td>NO</td>\n",
              "      <td>YES</td>\n",
              "      <td>travel</td>\n",
              "      <td>0</td>\n",
              "    </tr>\n",
              "    <tr>\n",
              "      <th>3</th>\n",
              "      <td>R4</td>\n",
              "      <td>Delhi-NCR</td>\n",
              "      <td>20</td>\n",
              "      <td>3.0</td>\n",
              "      <td>Very poor</td>\n",
              "      <td>Smartphone</td>\n",
              "      <td>2.0</td>\n",
              "      <td>1.0</td>\n",
              "      <td>6.0</td>\n",
              "      <td>5.0</td>\n",
              "      <td>INSTAGRAM</td>\n",
              "      <td>0.0</td>\n",
              "      <td>3</td>\n",
              "      <td>Decreased</td>\n",
              "      <td>NO</td>\n",
              "      <td>Watching web series</td>\n",
              "      <td>NO</td>\n",
              "      <td>NO</td>\n",
              "      <td>people</td>\n",
              "      <td>1</td>\n",
              "    </tr>\n",
              "    <tr>\n",
              "      <th>4</th>\n",
              "      <td>R5</td>\n",
              "      <td>Delhi-NCR</td>\n",
              "      <td>21</td>\n",
              "      <td>3.0</td>\n",
              "      <td>Good</td>\n",
              "      <td>Laptop/Desktop</td>\n",
              "      <td>3.0</td>\n",
              "      <td>1.0</td>\n",
              "      <td>8.0</td>\n",
              "      <td>3.0</td>\n",
              "      <td>INSTAGRAM</td>\n",
              "      <td>1.0</td>\n",
              "      <td>4</td>\n",
              "      <td>Remain Constant</td>\n",
              "      <td>NO</td>\n",
              "      <td>Social Media</td>\n",
              "      <td>NO</td>\n",
              "      <td>NO</td>\n",
              "      <td>travel</td>\n",
              "      <td>0</td>\n",
              "    </tr>\n",
              "  </tbody>\n",
              "</table>\n",
              "</div>"
            ],
            "text/plain": [
              "   ID Region of residence  ...  What you miss the most  Extra_coaching\n",
              "0  R1           Delhi-NCR  ...                  people               0\n",
              "1  R2           Delhi-NCR  ...                  travel               0\n",
              "2  R3           Delhi-NCR  ...                  travel               0\n",
              "3  R4           Delhi-NCR  ...                  people               1\n",
              "4  R5           Delhi-NCR  ...                  travel               0\n",
              "\n",
              "[5 rows x 20 columns]"
            ]
          },
          "metadata": {},
          "execution_count": 39
        }
      ]
    },
    {
      "cell_type": "markdown",
      "metadata": {
        "id": "ZBmt6WO8ZkSl"
      },
      "source": [
        "###Extra Mentoring"
      ]
    },
    {
      "cell_type": "code",
      "metadata": {
        "colab": {
          "base_uri": "https://localhost:8080/"
        },
        "id": "Ag7deT6FZjEc",
        "outputId": "eaef772f-f8b0-4fbd-8cf4-ca73bb1ee971"
      },
      "source": [
        "extra_mentor= []\n",
        "for i in range(len(student_df.ID)):\n",
        "  #print(student_df[\"Time spent on self study\"][i],\"=====\", student_df[\"Time utilized\"][i] )\n",
        "  if (student_df[\"Time spent on self study\"][i] < 3.0) & (student_df[\"Time utilized\"][i] == \"NO\"):\n",
        "    extra_mentor.append(1)\n",
        "    #print(student_df[\"Time spent on self study\"][i],\"=====\", student_df[\"Time utilized\"][i] )\n",
        "   \n",
        "  else:\n",
        "    extra_mentor.append(0)"
      ],
      "execution_count": 40,
      "outputs": [
        {
          "output_type": "stream",
          "name": "stdout",
          "text": [
            "4.0 ===== YES\n",
            "0.0 ===== YES\n",
            "3.0 ===== NO\n",
            "2.0 ===== NO\n",
            "2.0 ===== NO\n",
            "3.0 ===== NO\n",
            "6.0 ===== NO\n",
            "2.0 ===== NO\n",
            "2.0 ===== NO\n",
            "1.0 ===== NO\n",
            "1.0 ===== NO\n",
            "4.0 ===== NO\n",
            "1.0 ===== NO\n",
            "1.0 ===== NO\n",
            "3.0 ===== NO\n",
            "0.0 ===== YES\n",
            "0.0 ===== NO\n",
            "0.0 ===== NO\n",
            "2.0 ===== YES\n",
            "1.0 ===== NO\n",
            "1.0 ===== NO\n",
            "3.0 ===== YES\n",
            "0.0 ===== NO\n",
            "0.0 ===== NO\n",
            "2.0 ===== NO\n",
            "2.0 ===== NO\n",
            "4.0 ===== NO\n",
            "2.0 ===== YES\n",
            "5.0 ===== YES\n",
            "2.0 ===== YES\n",
            "1.0 ===== NO\n",
            "1.0 ===== NO\n",
            "2.0 ===== YES\n",
            "4.0 ===== YES\n",
            "2.0 ===== YES\n",
            "5.0 ===== NO\n",
            "6.0 ===== NO\n",
            "4.0 ===== YES\n",
            "6.0 ===== NO\n",
            "5.0 ===== YES\n",
            "18.0 ===== YES\n",
            "5.0 ===== YES\n",
            "1.0 ===== YES\n",
            "6.0 ===== YES\n",
            "2.0 ===== NO\n",
            "2.0 ===== NO\n",
            "1.0 ===== NO\n",
            "1.0 ===== NO\n",
            "2.0 ===== NO\n",
            "2.0 ===== NO\n",
            "2.0 ===== NO\n",
            "2.0 ===== NO\n",
            "8.0 ===== NO\n",
            "4.0 ===== YES\n",
            "0.0 ===== YES\n",
            "2.0 ===== NO\n",
            "2.0 ===== NO\n",
            "3.0 ===== NO\n",
            "2.0 ===== NO\n",
            "2.0 ===== NO\n",
            "2.0 ===== NO\n",
            "2.0 ===== NO\n",
            "6.0 ===== YES\n",
            "3.0 ===== NO\n",
            "4.0 ===== YES\n",
            "2.0 ===== YES\n",
            "1.0 ===== NO\n",
            "1.0 ===== NO\n",
            "6.0 ===== NO\n",
            "17.0 ===== NO\n",
            "2.0 ===== YES\n",
            "4.0 ===== YES\n",
            "2.0 ===== YES\n",
            "2.0 ===== NO\n",
            "2.0 ===== NO\n",
            "8.0 ===== YES\n",
            "1.0 ===== NO\n",
            "1.0 ===== NO\n",
            "5.0 ===== YES\n",
            "6.0 ===== YES\n",
            "6.0 ===== YES\n",
            "2.0 ===== NO\n",
            "2.0 ===== NO\n",
            "0.0 ===== NO\n",
            "0.0 ===== NO\n",
            "1.0 ===== YES\n",
            "4.0 ===== NO\n",
            "0.0 ===== NO\n",
            "0.0 ===== NO\n",
            "1.0 ===== YES\n",
            "3.0 ===== NO\n",
            "2.0 ===== NO\n",
            "2.0 ===== NO\n",
            "3.0 ===== NO\n",
            "4.0 ===== NO\n",
            "2.0 ===== NO\n",
            "2.0 ===== NO\n",
            "0.5 ===== NO\n",
            "0.5 ===== NO\n",
            "2.0 ===== NO\n",
            "2.0 ===== NO\n",
            "5.0 ===== YES\n",
            "1.0 ===== YES\n",
            "3.0 ===== NO\n",
            "0.0 ===== NO\n",
            "0.0 ===== NO\n",
            "4.0 ===== YES\n",
            "5.0 ===== NO\n",
            "2.0 ===== NO\n",
            "2.0 ===== NO\n",
            "2.0 ===== YES\n",
            "1.0 ===== NO\n",
            "1.0 ===== NO\n",
            "8.0 ===== YES\n",
            "2.0 ===== NO\n",
            "2.0 ===== NO\n",
            "3.0 ===== YES\n",
            "3.0 ===== NO\n",
            "4.0 ===== NO\n",
            "3.0 ===== YES\n",
            "3.0 ===== NO\n",
            "4.0 ===== NO\n",
            "0.0 ===== NO\n",
            "0.0 ===== NO\n",
            "2.0 ===== YES\n",
            "3.0 ===== NO\n",
            "3.0 ===== NO\n",
            "1.0 ===== NO\n",
            "1.0 ===== NO\n",
            "0.0 ===== NO\n",
            "0.0 ===== NO\n",
            "3.0 ===== NO\n",
            "2.0 ===== NO\n",
            "2.0 ===== NO\n",
            "2.0 ===== YES\n",
            "5.0 ===== NO\n",
            "4.0 ===== YES\n",
            "3.0 ===== NO\n",
            "7.0 ===== YES\n",
            "6.0 ===== YES\n",
            "1.5 ===== NO\n",
            "1.5 ===== NO\n",
            "2.0 ===== NO\n",
            "2.0 ===== NO\n",
            "3.0 ===== YES\n",
            "3.0 ===== YES\n",
            "2.0 ===== YES\n",
            "3.0 ===== NO\n",
            "4.0 ===== NO\n",
            "4.0 ===== NO\n",
            "3.0 ===== NO\n",
            "6.0 ===== YES\n",
            "8.0 ===== YES\n",
            "5.0 ===== YES\n",
            "2.0 ===== YES\n",
            "6.0 ===== NO\n",
            "2.0 ===== NO\n",
            "2.0 ===== NO\n",
            "5.0 ===== YES\n",
            "4.0 ===== YES\n",
            "3.0 ===== YES\n",
            "2.0 ===== NO\n",
            "2.0 ===== NO\n",
            "4.0 ===== YES\n",
            "3.0 ===== YES\n",
            "4.0 ===== NO\n",
            "3.0 ===== YES\n",
            "1.0 ===== NO\n",
            "1.0 ===== NO\n",
            "3.0 ===== YES\n",
            "4.0 ===== NO\n",
            "2.0 ===== YES\n",
            "4.0 ===== NO\n",
            "1.0 ===== YES\n",
            "2.5 ===== NO\n",
            "2.5 ===== NO\n",
            "5.0 ===== NO\n",
            "2.0 ===== NO\n",
            "2.0 ===== NO\n",
            "10.0 ===== YES\n",
            "2.0 ===== NO\n",
            "2.0 ===== NO\n",
            "5.0 ===== YES\n",
            "3.0 ===== YES\n",
            "1.0 ===== YES\n",
            "6.0 ===== YES\n",
            "2.0 ===== YES\n",
            "2.0 ===== YES\n",
            "1.0 ===== YES\n",
            "2.0 ===== NO\n",
            "2.0 ===== NO\n",
            "3.0 ===== NO\n",
            "1.0 ===== YES\n",
            "2.0 ===== NO\n",
            "2.0 ===== NO\n",
            "4.0 ===== NO\n",
            "7.0 ===== YES\n",
            "3.0 ===== NO\n",
            "3.0 ===== NO\n",
            "7.0 ===== YES\n",
            "1.0 ===== NO\n",
            "1.0 ===== NO\n",
            "1.0 ===== NO\n",
            "1.0 ===== NO\n",
            "6.0 ===== YES\n",
            "2.0 ===== NO\n",
            "2.0 ===== NO\n",
            "2.0 ===== NO\n",
            "2.0 ===== NO\n",
            "3.0 ===== NO\n",
            "1.0 ===== NO\n",
            "1.0 ===== NO\n",
            "3.0 ===== NO\n",
            "4.0 ===== NO\n",
            "0.0 ===== NO\n",
            "0.0 ===== NO\n",
            "4.0 ===== YES\n",
            "1.0 ===== NO\n",
            "1.0 ===== NO\n",
            "3.0 ===== NO\n",
            "2.0 ===== NO\n",
            "2.0 ===== NO\n",
            "3.0 ===== YES\n",
            "1.0 ===== NO\n",
            "1.0 ===== NO\n",
            "3.0 ===== YES\n",
            "3.0 ===== NO\n",
            "4.0 ===== YES\n",
            "4.0 ===== YES\n",
            "3.0 ===== YES\n",
            "3.0 ===== NO\n",
            "2.0 ===== NO\n",
            "2.0 ===== NO\n",
            "1.0 ===== NO\n",
            "1.0 ===== NO\n",
            "2.0 ===== YES\n",
            "0.5 ===== YES\n",
            "2.0 ===== YES\n",
            "7.0 ===== YES\n",
            "1.5 ===== NO\n",
            "1.5 ===== NO\n",
            "1.0 ===== NO\n",
            "1.0 ===== NO\n",
            "4.0 ===== NO\n",
            "5.0 ===== YES\n",
            "10.0 ===== YES\n",
            "0.0 ===== NO\n",
            "0.0 ===== NO\n",
            "5.0 ===== NO\n",
            "3.0 ===== NO\n",
            "8.0 ===== NO\n",
            "3.0 ===== YES\n",
            "0.0 ===== NO\n",
            "0.0 ===== NO\n",
            "1.0 ===== NO\n",
            "1.0 ===== NO\n",
            "4.0 ===== YES\n",
            "3.0 ===== YES\n",
            "5.0 ===== YES\n",
            "3.0 ===== NO\n",
            "3.0 ===== YES\n",
            "10.0 ===== YES\n",
            "4.0 ===== YES\n",
            "7.0 ===== YES\n",
            "0.0 ===== NO\n",
            "0.0 ===== NO\n",
            "2.5 ===== YES\n",
            "4.0 ===== YES\n",
            "1.0 ===== YES\n",
            "6.0 ===== YES\n",
            "4.0 ===== YES\n",
            "5.0 ===== NO\n",
            "4.0 ===== YES\n",
            "1.5 ===== YES\n",
            "5.0 ===== NO\n",
            "4.0 ===== YES\n",
            "2.0 ===== NO\n",
            "2.0 ===== NO\n",
            "2.0 ===== NO\n",
            "2.0 ===== NO\n",
            "7.0 ===== NO\n",
            "5.0 ===== YES\n",
            "2.0 ===== NO\n",
            "2.0 ===== NO\n",
            "3.0 ===== YES\n",
            "3.0 ===== NO\n",
            "8.0 ===== YES\n",
            "3.0 ===== YES\n",
            "0.0 ===== YES\n",
            "2.0 ===== NO\n",
            "2.0 ===== NO\n",
            "5.0 ===== YES\n",
            "1.0 ===== NO\n",
            "1.0 ===== NO\n",
            "5.0 ===== YES\n",
            "12.0 ===== NO\n",
            "10.0 ===== NO\n",
            "3.0 ===== YES\n",
            "4.0 ===== YES\n",
            "1.5 ===== YES\n",
            "10.0 ===== YES\n",
            "2.0 ===== NO\n",
            "2.0 ===== NO\n",
            "12.0 ===== NO\n",
            "1.0 ===== YES\n",
            "1.0 ===== NO\n",
            "1.0 ===== NO\n",
            "2.0 ===== YES\n",
            "2.0 ===== YES\n",
            "3.0 ===== NO\n",
            "2.0 ===== NO\n",
            "2.0 ===== NO\n",
            "2.0 ===== NO\n",
            "2.0 ===== NO\n",
            "2.0 ===== YES\n",
            "2.0 ===== NO\n",
            "2.0 ===== NO\n",
            "4.0 ===== NO\n",
            "2.0 ===== YES\n",
            "0.0 ===== NO\n",
            "0.0 ===== NO\n",
            "2.0 ===== NO\n",
            "2.0 ===== NO\n",
            "8.0 ===== YES\n",
            "5.0 ===== NO\n",
            "4.0 ===== NO\n",
            "2.0 ===== NO\n",
            "2.0 ===== NO\n",
            "3.0 ===== NO\n",
            "4.0 ===== NO\n",
            "8.0 ===== YES\n",
            "4.0 ===== NO\n",
            "1.0 ===== NO\n",
            "1.0 ===== NO\n",
            "0.0 ===== NO\n",
            "0.0 ===== NO\n",
            "1.0 ===== NO\n",
            "1.0 ===== NO\n",
            "3.0 ===== YES\n",
            "2.0 ===== NO\n",
            "2.0 ===== NO\n",
            "5.0 ===== NO\n",
            "3.0 ===== NO\n",
            "2.0 ===== YES\n",
            "5.0 ===== NO\n",
            "12.0 ===== YES\n",
            "0.0 ===== YES\n",
            "2.0 ===== NO\n",
            "2.0 ===== NO\n",
            "5.0 ===== NO\n",
            "2.5 ===== YES\n",
            "8.0 ===== YES\n",
            "3.0 ===== YES\n",
            "1.0 ===== NO\n",
            "1.0 ===== NO\n",
            "1.0 ===== NO\n",
            "1.0 ===== NO\n",
            "3.0 ===== NO\n",
            "2.0 ===== YES\n",
            "2.0 ===== NO\n",
            "2.0 ===== NO\n",
            "4.0 ===== YES\n",
            "6.0 ===== YES\n",
            "6.0 ===== YES\n",
            "2.0 ===== NO\n",
            "2.0 ===== NO\n",
            "5.0 ===== NO\n",
            "2.0 ===== NO\n",
            "2.0 ===== NO\n",
            "1.0 ===== YES\n",
            "9.0 ===== NO\n",
            "3.0 ===== YES\n",
            "3.0 ===== NO\n",
            "2.0 ===== YES\n",
            "1.0 ===== NO\n",
            "1.0 ===== NO\n",
            "5.0 ===== YES\n",
            "1.0 ===== YES\n",
            "6.0 ===== NO\n",
            "3.0 ===== YES\n",
            "2.0 ===== NO\n",
            "2.0 ===== NO\n",
            "3.0 ===== NO\n",
            "2.0 ===== NO\n",
            "2.0 ===== NO\n",
            "1.0 ===== NO\n",
            "1.0 ===== NO\n",
            "5.0 ===== NO\n",
            "5.0 ===== YES\n",
            "8.0 ===== YES\n",
            "1.0 ===== YES\n",
            "1.0 ===== YES\n",
            "3.0 ===== NO\n",
            "3.0 ===== NO\n",
            "4.0 ===== NO\n",
            "6.0 ===== YES\n",
            "3.0 ===== YES\n",
            "3.0 ===== NO\n",
            "3.0 ===== YES\n",
            "5.0 ===== YES\n",
            "2.0 ===== NO\n",
            "2.0 ===== NO\n",
            "2.0 ===== NO\n",
            "2.0 ===== NO\n",
            "4.0 ===== NO\n",
            "2.0 ===== YES\n",
            "0.0 ===== YES\n",
            "0.0 ===== NO\n",
            "0.0 ===== NO\n",
            "2.0 ===== YES\n",
            "3.0 ===== YES\n",
            "1.0 ===== NO\n",
            "1.0 ===== NO\n",
            "6.0 ===== NO\n",
            "2.0 ===== NO\n",
            "2.0 ===== NO\n",
            "2.0 ===== YES\n",
            "2.0 ===== NO\n",
            "2.0 ===== NO\n",
            "4.0 ===== YES\n",
            "2.0 ===== YES\n",
            "2.0 ===== YES\n",
            "0.0 ===== NO\n",
            "0.0 ===== NO\n",
            "2.0 ===== NO\n",
            "2.0 ===== NO\n",
            "2.3 ===== YES\n",
            "2.0 ===== NO\n",
            "2.0 ===== NO\n",
            "2.5 ===== NO\n",
            "2.5 ===== NO\n",
            "1.0 ===== NO\n",
            "1.0 ===== NO\n",
            "6.0 ===== YES\n",
            "0.0 ===== NO\n",
            "0.0 ===== NO\n",
            "10.0 ===== NO\n",
            "10.0 ===== YES\n",
            "3.0 ===== YES\n",
            "5.0 ===== NO\n",
            "4.0 ===== YES\n",
            "4.0 ===== NO\n",
            "2.0 ===== NO\n",
            "2.0 ===== NO\n",
            "1.0 ===== NO\n",
            "1.0 ===== NO\n",
            "2.0 ===== YES\n",
            "2.0 ===== NO\n",
            "2.0 ===== NO\n",
            "2.0 ===== YES\n",
            "3.0 ===== NO\n",
            "3.0 ===== YES\n",
            "3.0 ===== YES\n",
            "5.0 ===== NO\n",
            "2.0 ===== YES\n",
            "2.0 ===== NO\n",
            "2.0 ===== NO\n",
            "8.0 ===== YES\n",
            "1.0 ===== YES\n",
            "5.0 ===== YES\n",
            "1.0 ===== NO\n",
            "1.0 ===== NO\n",
            "2.0 ===== YES\n",
            "0.0 ===== YES\n",
            "2.0 ===== YES\n",
            "1.0 ===== YES\n",
            "5.0 ===== YES\n",
            "0.0 ===== NO\n",
            "0.0 ===== NO\n",
            "2.5 ===== YES\n",
            "3.0 ===== NO\n",
            "2.0 ===== YES\n",
            "2.5 ===== YES\n",
            "2.0 ===== YES\n",
            "1.0 ===== YES\n",
            "2.0 ===== NO\n",
            "2.0 ===== NO\n",
            "1.2 ===== YES\n",
            "2.0 ===== NO\n",
            "2.0 ===== NO\n",
            "2.0 ===== NO\n",
            "2.0 ===== NO\n",
            "3.0 ===== NO\n",
            "3.0 ===== YES\n",
            "4.0 ===== NO\n",
            "4.0 ===== YES\n",
            "1.0 ===== YES\n",
            "2.0 ===== NO\n",
            "2.0 ===== NO\n",
            "1.0 ===== NO\n",
            "1.0 ===== NO\n",
            "2.0 ===== YES\n",
            "0.0 ===== NO\n",
            "0.0 ===== NO\n",
            "4.0 ===== NO\n",
            "3.0 ===== NO\n",
            "1.0 ===== NO\n",
            "1.0 ===== NO\n",
            "2.0 ===== YES\n",
            "3.0 ===== YES\n",
            "1.0 ===== YES\n",
            "2.0 ===== YES\n",
            "3.0 ===== YES\n",
            "4.0 ===== NO\n",
            "4.0 ===== YES\n",
            "2.0 ===== NO\n",
            "2.0 ===== NO\n",
            "2.0 ===== NO\n",
            "2.0 ===== NO\n",
            "5.0 ===== YES\n",
            "2.0 ===== YES\n",
            "4.0 ===== NO\n",
            "2.0 ===== NO\n",
            "2.0 ===== NO\n",
            "1.0 ===== YES\n",
            "1.0 ===== NO\n",
            "1.0 ===== NO\n",
            "1.0 ===== YES\n",
            "1.0 ===== YES\n",
            "2.0 ===== YES\n",
            "4.0 ===== YES\n",
            "2.0 ===== NO\n",
            "2.0 ===== NO\n",
            "0.0 ===== YES\n",
            "3.0 ===== YES\n",
            "1.0 ===== NO\n",
            "1.0 ===== NO\n",
            "2.0 ===== YES\n",
            "3.0 ===== YES\n",
            "1.0 ===== NO\n",
            "1.0 ===== NO\n",
            "1.0 ===== NO\n",
            "1.0 ===== NO\n",
            "3.0 ===== NO\n",
            "2.0 ===== YES\n",
            "1.0 ===== YES\n",
            "1.0 ===== YES\n",
            "10.0 ===== YES\n",
            "3.0 ===== YES\n",
            "2.0 ===== YES\n",
            "3.0 ===== NO\n",
            "0.0 ===== NO\n",
            "0.0 ===== NO\n",
            "3.0 ===== NO\n",
            "1.0 ===== NO\n",
            "1.0 ===== NO\n",
            "3.0 ===== YES\n",
            "0.0 ===== NO\n",
            "0.0 ===== NO\n",
            "4.0 ===== YES\n",
            "0.0 ===== NO\n",
            "0.0 ===== NO\n",
            "2.0 ===== YES\n",
            "3.0 ===== YES\n",
            "0.0 ===== NO\n",
            "0.0 ===== NO\n",
            "1.0 ===== NO\n",
            "1.0 ===== NO\n",
            "2.0 ===== NO\n",
            "2.0 ===== NO\n",
            "3.0 ===== NO\n",
            "2.0 ===== YES\n",
            "2.0 ===== YES\n",
            "3.5 ===== YES\n",
            "2.0 ===== NO\n",
            "2.0 ===== NO\n",
            "1.0 ===== NO\n",
            "1.0 ===== NO\n",
            "4.0 ===== YES\n",
            "2.0 ===== NO\n",
            "2.0 ===== NO\n",
            "5.0 ===== YES\n",
            "2.0 ===== NO\n",
            "2.0 ===== NO\n",
            "2.0 ===== YES\n",
            "2.0 ===== YES\n",
            "3.0 ===== YES\n",
            "3.0 ===== YES\n",
            "2.0 ===== NO\n",
            "2.0 ===== NO\n",
            "4.0 ===== YES\n",
            "0.0 ===== NO\n",
            "0.0 ===== NO\n",
            "6.0 ===== YES\n",
            "9.0 ===== YES\n",
            "4.0 ===== NO\n",
            "4.0 ===== YES\n",
            "2.0 ===== NO\n",
            "2.0 ===== NO\n",
            "5.0 ===== YES\n",
            "2.0 ===== YES\n",
            "0.5 ===== YES\n",
            "3.0 ===== YES\n",
            "4.0 ===== NO\n",
            "2.0 ===== YES\n",
            "3.0 ===== YES\n",
            "0.0 ===== YES\n",
            "6.0 ===== YES\n",
            "1.0 ===== NO\n",
            "1.0 ===== NO\n",
            "7.0 ===== YES\n",
            "10.0 ===== YES\n",
            "5.0 ===== NO\n",
            "0.0 ===== NO\n",
            "0.0 ===== NO\n",
            "3.0 ===== NO\n",
            "2.0 ===== NO\n",
            "2.0 ===== NO\n",
            "0.0 ===== YES\n",
            "10.0 ===== YES\n",
            "2.0 ===== NO\n",
            "2.0 ===== NO\n",
            "4.0 ===== YES\n",
            "3.0 ===== YES\n",
            "2.0 ===== YES\n",
            "1.0 ===== NO\n",
            "1.0 ===== NO\n",
            "0.0 ===== NO\n",
            "0.0 ===== NO\n",
            "6.0 ===== YES\n",
            "6.0 ===== NO\n",
            "3.0 ===== NO\n",
            "1.0 ===== NO\n",
            "1.0 ===== NO\n",
            "2.0 ===== NO\n",
            "2.0 ===== NO\n",
            "7.0 ===== YES\n",
            "6.0 ===== NO\n",
            "4.0 ===== NO\n",
            "2.0 ===== NO\n",
            "2.0 ===== NO\n",
            "2.0 ===== NO\n",
            "2.0 ===== NO\n",
            "6.0 ===== YES\n",
            "6.0 ===== YES\n",
            "0.0 ===== NO\n",
            "0.0 ===== NO\n",
            "0.0 ===== NO\n",
            "0.0 ===== NO\n",
            "3.0 ===== NO\n",
            "8.0 ===== NO\n",
            "1.0 ===== NO\n",
            "1.0 ===== NO\n",
            "1.0 ===== NO\n",
            "1.0 ===== NO\n",
            "2.0 ===== NO\n",
            "2.0 ===== NO\n",
            "2.0 ===== YES\n",
            "2.0 ===== YES\n",
            "2.0 ===== NO\n",
            "2.0 ===== NO\n",
            "3.0 ===== NO\n",
            "2.0 ===== YES\n",
            "0.0 ===== NO\n",
            "0.0 ===== NO\n",
            "2.0 ===== NO\n",
            "2.0 ===== NO\n",
            "1.0 ===== NO\n",
            "1.0 ===== NO\n",
            "4.0 ===== YES\n",
            "3.0 ===== YES\n",
            "2.0 ===== YES\n",
            "3.0 ===== NO\n",
            "5.0 ===== NO\n",
            "1.0 ===== YES\n",
            "3.0 ===== YES\n",
            "2.0 ===== NO\n",
            "2.0 ===== NO\n",
            "5.0 ===== NO\n",
            "5.0 ===== YES\n",
            "4.0 ===== YES\n",
            "3.0 ===== NO\n",
            "1.0 ===== NO\n",
            "1.0 ===== NO\n",
            "3.0 ===== NO\n",
            "0.0 ===== NO\n",
            "0.0 ===== NO\n",
            "8.0 ===== NO\n",
            "1.0 ===== YES\n",
            "4.0 ===== NO\n",
            "0.0 ===== NO\n",
            "0.0 ===== NO\n",
            "1.0 ===== NO\n",
            "1.0 ===== NO\n",
            "4.0 ===== NO\n",
            "1.0 ===== NO\n",
            "1.0 ===== NO\n",
            "1.0 ===== YES\n",
            "6.0 ===== YES\n",
            "2.0 ===== YES\n",
            "2.0 ===== YES\n",
            "2.0 ===== YES\n",
            "6.0 ===== NO\n",
            "2.0 ===== YES\n",
            "4.0 ===== YES\n",
            "2.0 ===== YES\n",
            "6.0 ===== NO\n",
            "4.0 ===== YES\n",
            "2.0 ===== YES\n",
            "4.0 ===== NO\n",
            "2.0 ===== NO\n",
            "2.0 ===== NO\n",
            "0.0 ===== NO\n",
            "0.0 ===== NO\n",
            "2.0 ===== NO\n",
            "2.0 ===== NO\n",
            "4.0 ===== YES\n",
            "8.0 ===== YES\n",
            "3.0 ===== YES\n",
            "2.0 ===== NO\n",
            "2.0 ===== NO\n",
            "1.0 ===== NO\n",
            "1.0 ===== NO\n",
            "2.0 ===== NO\n",
            "2.0 ===== NO\n",
            "2.0 ===== YES\n",
            "2.0 ===== NO\n",
            "2.0 ===== NO\n",
            "4.0 ===== YES\n",
            "1.0 ===== NO\n",
            "1.0 ===== NO\n",
            "2.0 ===== NO\n",
            "2.0 ===== NO\n",
            "1.0 ===== NO\n",
            "1.0 ===== NO\n",
            "0.0 ===== NO\n",
            "0.0 ===== NO\n",
            "1.0 ===== YES\n",
            "1.0 ===== NO\n",
            "1.0 ===== NO\n",
            "3.0 ===== NO\n",
            "2.0 ===== YES\n",
            "8.0 ===== NO\n",
            "4.0 ===== NO\n",
            "8.0 ===== YES\n",
            "2.0 ===== YES\n",
            "0.0 ===== NO\n",
            "0.0 ===== NO\n",
            "4.0 ===== NO\n",
            "0.0 ===== NO\n",
            "0.0 ===== NO\n",
            "1.0 ===== NO\n",
            "1.0 ===== NO\n",
            "0.0 ===== NO\n",
            "0.0 ===== NO\n",
            "1.0 ===== YES\n",
            "2.0 ===== NO\n",
            "2.0 ===== NO\n",
            "0.0 ===== YES\n",
            "4.0 ===== NO\n",
            "2.0 ===== NO\n",
            "2.0 ===== NO\n",
            "1.0 ===== YES\n",
            "4.0 ===== NO\n",
            "1.0 ===== YES\n",
            "4.0 ===== YES\n",
            "1.0 ===== YES\n",
            "2.0 ===== YES\n",
            "3.0 ===== NO\n",
            "2.0 ===== YES\n",
            "3.0 ===== YES\n",
            "0.5 ===== YES\n",
            "2.0 ===== NO\n",
            "2.0 ===== NO\n",
            "3.0 ===== YES\n",
            "1.0 ===== YES\n",
            "0.5 ===== NO\n",
            "0.5 ===== NO\n",
            "8.0 ===== YES\n",
            "3.0 ===== YES\n",
            "8.0 ===== YES\n",
            "2.0 ===== YES\n",
            "2.0 ===== NO\n",
            "2.0 ===== NO\n",
            "6.0 ===== YES\n",
            "3.0 ===== YES\n",
            "2.0 ===== NO\n",
            "2.0 ===== NO\n",
            "2.0 ===== YES\n",
            "2.0 ===== NO\n",
            "2.0 ===== NO\n",
            "2.0 ===== YES\n",
            "8.0 ===== YES\n",
            "3.0 ===== NO\n",
            "3.0 ===== NO\n",
            "10.0 ===== YES\n",
            "4.0 ===== NO\n",
            "1.0 ===== YES\n",
            "2.0 ===== NO\n",
            "2.0 ===== NO\n",
            "3.0 ===== YES\n",
            "0.0 ===== NO\n",
            "0.0 ===== NO\n",
            "2.0 ===== YES\n",
            "2.0 ===== NO\n",
            "2.0 ===== NO\n",
            "0.0 ===== NO\n",
            "0.0 ===== NO\n",
            "3.0 ===== YES\n",
            "4.0 ===== NO\n",
            "0.0 ===== NO\n",
            "0.0 ===== NO\n",
            "3.0 ===== NO\n",
            "3.0 ===== YES\n",
            "5.0 ===== NO\n",
            "2.0 ===== YES\n",
            "2.0 ===== YES\n",
            "2.0 ===== NO\n",
            "2.0 ===== NO\n",
            "1.0 ===== NO\n",
            "1.0 ===== NO\n",
            "4.0 ===== YES\n",
            "1.0 ===== NO\n",
            "1.0 ===== NO\n",
            "5.0 ===== YES\n",
            "3.0 ===== NO\n",
            "1.0 ===== NO\n",
            "1.0 ===== NO\n",
            "4.0 ===== YES\n",
            "3.0 ===== NO\n",
            "5.0 ===== NO\n",
            "1.0 ===== YES\n",
            "1.0 ===== YES\n",
            "2.0 ===== YES\n",
            "2.0 ===== NO\n",
            "2.0 ===== NO\n",
            "1.0 ===== NO\n",
            "1.0 ===== NO\n",
            "5.0 ===== YES\n",
            "1.0 ===== NO\n",
            "1.0 ===== NO\n",
            "1.0 ===== YES\n",
            "2.0 ===== YES\n",
            "2.0 ===== YES\n",
            "1.0 ===== YES\n",
            "2.0 ===== YES\n",
            "4.0 ===== YES\n",
            "4.0 ===== NO\n",
            "2.0 ===== NO\n",
            "2.0 ===== NO\n",
            "6.0 ===== YES\n",
            "1.0 ===== NO\n",
            "1.0 ===== NO\n",
            "2.0 ===== NO\n",
            "2.0 ===== NO\n",
            "0.0 ===== NO\n",
            "0.0 ===== NO\n",
            "2.0 ===== NO\n",
            "2.0 ===== NO\n",
            "5.0 ===== YES\n",
            "3.0 ===== NO\n",
            "2.0 ===== YES\n",
            "4.0 ===== NO\n",
            "3.0 ===== NO\n",
            "4.0 ===== NO\n",
            "0.5 ===== NO\n",
            "0.5 ===== NO\n",
            "2.0 ===== YES\n",
            "2.0 ===== NO\n",
            "2.0 ===== NO\n",
            "2.0 ===== NO\n",
            "2.0 ===== NO\n",
            "1.0 ===== NO\n",
            "1.0 ===== NO\n",
            "1.0 ===== YES\n",
            "2.0 ===== NO\n",
            "2.0 ===== NO\n",
            "3.0 ===== YES\n",
            "3.0 ===== YES\n",
            "1.0 ===== NO\n",
            "1.0 ===== NO\n",
            "3.0 ===== YES\n",
            "2.0 ===== NO\n",
            "2.0 ===== NO\n",
            "2.0 ===== NO\n",
            "2.0 ===== NO\n",
            "6.5 ===== YES\n",
            "2.0 ===== YES\n",
            "4.0 ===== YES\n",
            "4.0 ===== NO\n",
            "0.5 ===== NO\n",
            "0.5 ===== NO\n",
            "0.0 ===== NO\n",
            "0.0 ===== NO\n",
            "3.0 ===== YES\n",
            "1.0 ===== NO\n",
            "1.0 ===== NO\n",
            "3.0 ===== NO\n",
            "4.0 ===== NO\n",
            "5.0 ===== YES\n",
            "3.0 ===== NO\n",
            "0.0 ===== YES\n",
            "2.0 ===== YES\n",
            "2.0 ===== YES\n",
            "2.0 ===== YES\n",
            "6.0 ===== YES\n",
            "1.0 ===== NO\n",
            "1.0 ===== NO\n",
            "1.0 ===== YES\n",
            "6.0 ===== NO\n",
            "3.0 ===== YES\n",
            "3.0 ===== NO\n",
            "6.0 ===== YES\n",
            "5.0 ===== NO\n",
            "2.0 ===== NO\n",
            "2.0 ===== NO\n",
            "10.0 ===== YES\n",
            "1.0 ===== YES\n",
            "1.0 ===== YES\n",
            "2.0 ===== YES\n",
            "2.0 ===== YES\n",
            "5.0 ===== YES\n",
            "1.0 ===== NO\n",
            "1.0 ===== NO\n",
            "1.0 ===== YES\n",
            "3.0 ===== YES\n",
            "3.0 ===== YES\n",
            "2.0 ===== YES\n",
            "1.5 ===== NO\n",
            "1.5 ===== NO\n",
            "4.0 ===== YES\n",
            "2.0 ===== NO\n",
            "2.0 ===== NO\n",
            "0.5 ===== NO\n",
            "0.5 ===== NO\n",
            "2.0 ===== NO\n",
            "2.0 ===== NO\n",
            "1.0 ===== NO\n",
            "1.0 ===== NO\n",
            "3.0 ===== NO\n",
            "2.0 ===== NO\n",
            "2.0 ===== NO\n",
            "2.5 ===== NO\n",
            "2.5 ===== NO\n",
            "3.0 ===== NO\n",
            "4.0 ===== NO\n",
            "5.0 ===== YES\n",
            "7.0 ===== YES\n",
            "0.0 ===== NO\n",
            "0.0 ===== NO\n",
            "3.0 ===== NO\n",
            "2.0 ===== YES\n",
            "6.0 ===== YES\n",
            "1.0 ===== YES\n",
            "2.0 ===== NO\n",
            "2.0 ===== NO\n",
            "6.0 ===== NO\n",
            "4.0 ===== NO\n",
            "3.0 ===== YES\n",
            "4.0 ===== YES\n",
            "5.0 ===== YES\n",
            "2.0 ===== YES\n",
            "4.0 ===== YES\n",
            "3.0 ===== YES\n",
            "1.0 ===== NO\n",
            "1.0 ===== NO\n",
            "1.0 ===== NO\n",
            "1.0 ===== NO\n",
            "2.0 ===== NO\n",
            "2.0 ===== NO\n",
            "1.0 ===== NO\n",
            "1.0 ===== NO\n",
            "6.0 ===== YES\n",
            "2.0 ===== NO\n",
            "2.0 ===== NO\n",
            "3.0 ===== NO\n",
            "2.0 ===== NO\n",
            "2.0 ===== NO\n",
            "2.0 ===== NO\n",
            "2.0 ===== NO\n",
            "4.0 ===== YES\n",
            "0.0 ===== NO\n",
            "0.0 ===== NO\n",
            "4.0 ===== YES\n",
            "2.0 ===== YES\n",
            "2.0 ===== NO\n",
            "2.0 ===== NO\n",
            "2.0 ===== NO\n",
            "2.0 ===== NO\n",
            "5.0 ===== NO\n",
            "2.0 ===== YES\n",
            "2.0 ===== YES\n",
            "2.0 ===== YES\n",
            "4.0 ===== YES\n",
            "5.0 ===== NO\n",
            "5.0 ===== NO\n",
            "3.0 ===== YES\n",
            "2.0 ===== YES\n",
            "1.0 ===== YES\n",
            "5.0 ===== NO\n",
            "3.0 ===== NO\n",
            "4.0 ===== YES\n",
            "2.0 ===== NO\n",
            "2.0 ===== NO\n",
            "0.0 ===== NO\n",
            "0.0 ===== NO\n",
            "2.0 ===== NO\n",
            "2.0 ===== NO\n",
            "2.0 ===== NO\n",
            "2.0 ===== NO\n",
            "3.0 ===== YES\n",
            "0.0 ===== NO\n",
            "0.0 ===== NO\n",
            "3.0 ===== NO\n",
            "1.0 ===== NO\n",
            "1.0 ===== NO\n",
            "4.0 ===== YES\n",
            "1.0 ===== YES\n",
            "4.0 ===== NO\n",
            "2.0 ===== YES\n",
            "8.0 ===== NO\n",
            "2.0 ===== YES\n",
            "1.0 ===== NO\n",
            "1.0 ===== NO\n",
            "2.0 ===== YES\n",
            "3.0 ===== NO\n",
            "1.0 ===== YES\n",
            "0.0 ===== NO\n",
            "0.0 ===== NO\n",
            "5.0 ===== YES\n",
            "2.0 ===== YES\n",
            "3.0 ===== YES\n",
            "1.0 ===== NO\n",
            "1.0 ===== NO\n",
            "2.0 ===== NO\n",
            "2.0 ===== NO\n",
            "2.0 ===== NO\n",
            "2.0 ===== NO\n",
            "3.0 ===== NO\n",
            "3.0 ===== NO\n",
            "2.0 ===== YES\n",
            "0.0 ===== NO\n",
            "0.0 ===== NO\n",
            "4.0 ===== YES\n",
            "4.0 ===== NO\n",
            "1.0 ===== NO\n",
            "1.0 ===== NO\n",
            "2.0 ===== YES\n",
            "5.0 ===== NO\n",
            "2.0 ===== NO\n",
            "2.0 ===== NO\n",
            "5.0 ===== YES\n",
            "2.0 ===== NO\n",
            "2.0 ===== NO\n",
            "4.0 ===== YES\n",
            "1.0 ===== YES\n",
            "0.0 ===== NO\n",
            "0.0 ===== NO\n",
            "1.0 ===== NO\n",
            "1.0 ===== NO\n",
            "4.0 ===== NO\n",
            "2.0 ===== YES\n",
            "3.0 ===== NO\n",
            "4.0 ===== NO\n",
            "4.0 ===== NO\n",
            "1.0 ===== NO\n",
            "1.0 ===== NO\n",
            "0.0 ===== NO\n",
            "0.0 ===== NO\n",
            "2.0 ===== YES\n",
            "2.0 ===== NO\n",
            "2.0 ===== NO\n",
            "2.0 ===== YES\n",
            "5.0 ===== YES\n",
            "1.0 ===== YES\n",
            "1.0 ===== NO\n",
            "1.0 ===== NO\n",
            "2.0 ===== YES\n",
            "0.0 ===== NO\n",
            "0.0 ===== NO\n",
            "1.0 ===== NO\n",
            "1.0 ===== NO\n",
            "7.0 ===== NO\n",
            "2.0 ===== NO\n",
            "2.0 ===== NO\n",
            "5.0 ===== YES\n",
            "2.0 ===== YES\n",
            "12.0 ===== NO\n",
            "3.0 ===== NO\n",
            "4.0 ===== NO\n",
            "3.0 ===== YES\n",
            "5.0 ===== YES\n",
            "5.0 ===== YES\n",
            "4.0 ===== YES\n",
            "8.0 ===== YES\n",
            "6.0 ===== YES\n",
            "2.0 ===== YES\n",
            "3.0 ===== NO\n",
            "2.0 ===== NO\n",
            "2.0 ===== NO\n",
            "6.0 ===== YES\n",
            "3.0 ===== NO\n",
            "4.0 ===== YES\n",
            "2.0 ===== YES\n",
            "2.0 ===== YES\n",
            "3.0 ===== NO\n",
            "3.0 ===== YES\n",
            "4.0 ===== NO\n",
            "3.0 ===== YES\n",
            "1.0 ===== NO\n",
            "1.0 ===== NO\n",
            "2.0 ===== NO\n",
            "2.0 ===== NO\n",
            "3.0 ===== YES\n",
            "2.0 ===== NO\n",
            "2.0 ===== NO\n",
            "2.0 ===== NO\n",
            "2.0 ===== NO\n",
            "12.0 ===== YES\n",
            "2.0 ===== NO\n",
            "2.0 ===== NO\n",
            "1.0 ===== NO\n",
            "1.0 ===== NO\n",
            "4.0 ===== YES\n",
            "2.0 ===== NO\n",
            "2.0 ===== NO\n",
            "1.0 ===== NO\n",
            "1.0 ===== NO\n",
            "6.0 ===== NO\n",
            "1.0 ===== YES\n",
            "2.0 ===== NO\n",
            "2.0 ===== NO\n",
            "5.0 ===== NO\n",
            "1.0 ===== NO\n",
            "1.0 ===== NO\n",
            "5.0 ===== NO\n",
            "2.0 ===== YES\n",
            "2.0 ===== YES\n",
            "1.0 ===== YES\n",
            "3.0 ===== NO\n",
            "1.0 ===== YES\n",
            "2.0 ===== NO\n",
            "2.0 ===== NO\n",
            "5.0 ===== YES\n",
            "2.0 ===== NO\n",
            "2.0 ===== NO\n",
            "3.0 ===== YES\n",
            "4.0 ===== YES\n",
            "2.0 ===== NO\n",
            "2.0 ===== NO\n",
            "2.0 ===== NO\n",
            "2.0 ===== NO\n",
            "4.0 ===== YES\n",
            "3.0 ===== NO\n",
            "2.0 ===== NO\n",
            "2.0 ===== NO\n",
            "5.0 ===== NO\n",
            "4.0 ===== YES\n",
            "4.0 ===== NO\n",
            "3.0 ===== YES\n",
            "4.0 ===== NO\n",
            "4.0 ===== YES\n",
            "2.0 ===== YES\n",
            "1.0 ===== NO\n",
            "1.0 ===== NO\n",
            "3.0 ===== NO\n",
            "4.0 ===== NO\n",
            "3.0 ===== NO\n",
            "2.0 ===== YES\n",
            "2.0 ===== NO\n",
            "2.0 ===== NO\n",
            "3.0 ===== NO\n",
            "2.0 ===== NO\n",
            "2.0 ===== NO\n",
            "3.0 ===== NO\n",
            "2.0 ===== NO\n",
            "2.0 ===== NO\n",
            "2.0 ===== NO\n",
            "2.0 ===== NO\n",
            "7.0 ===== YES\n",
            "1.0 ===== NO\n",
            "1.0 ===== NO\n",
            "2.0 ===== YES\n",
            "2.0 ===== YES\n",
            "1.0 ===== NO\n",
            "1.0 ===== NO\n",
            "3.0 ===== NO\n",
            "3.0 ===== NO\n",
            "1.0 ===== NO\n",
            "1.0 ===== NO\n",
            "0.0 ===== NO\n",
            "0.0 ===== NO\n",
            "1.0 ===== YES\n",
            "7.0 ===== YES\n",
            "1.0 ===== YES\n",
            "5.0 ===== NO\n",
            "2.0 ===== NO\n",
            "2.0 ===== NO\n",
            "1.0 ===== NO\n",
            "1.0 ===== NO\n",
            "6.0 ===== YES\n",
            "1.0 ===== NO\n",
            "1.0 ===== NO\n",
            "2.0 ===== NO\n",
            "2.0 ===== NO\n",
            "2.0 ===== NO\n",
            "2.0 ===== NO\n",
            "6.0 ===== YES\n",
            "2.0 ===== YES\n",
            "2.0 ===== YES\n",
            "1.0 ===== YES\n",
            "2.0 ===== YES\n",
            "3.0 ===== YES\n",
            "2.0 ===== NO\n",
            "2.0 ===== NO\n",
            "2.0 ===== NO\n",
            "2.0 ===== NO\n",
            "1.0 ===== NO\n",
            "1.0 ===== NO\n",
            "3.0 ===== YES\n",
            "6.0 ===== YES\n",
            "2.0 ===== YES\n",
            "2.0 ===== YES\n",
            "2.0 ===== NO\n",
            "2.0 ===== NO\n",
            "0.0 ===== YES\n",
            "3.0 ===== YES\n",
            "1.0 ===== YES\n",
            "2.0 ===== YES\n",
            "2.0 ===== NO\n",
            "2.0 ===== NO\n",
            "6.0 ===== YES\n",
            "3.0 ===== YES\n",
            "4.0 ===== YES\n",
            "2.0 ===== NO\n",
            "2.0 ===== NO\n",
            "3.0 ===== NO\n",
            "3.0 ===== YES\n",
            "1.0 ===== NO\n",
            "1.0 ===== NO\n",
            "6.0 ===== NO\n",
            "7.0 ===== NO\n",
            "10.0 ===== NO\n",
            "2.0 ===== YES\n",
            "10.0 ===== YES\n",
            "0.0 ===== NO\n",
            "0.0 ===== NO\n",
            "1.0 ===== YES\n",
            "2.0 ===== YES\n",
            "2.0 ===== NO\n",
            "2.0 ===== NO\n",
            "1.0 ===== NO\n",
            "1.0 ===== NO\n",
            "6.0 ===== NO\n",
            "1.0 ===== NO\n",
            "1.0 ===== NO\n",
            "1.0 ===== NO\n",
            "1.0 ===== NO\n",
            "2.0 ===== YES\n",
            "2.0 ===== YES\n",
            "2.0 ===== YES\n",
            "2.0 ===== NO\n",
            "2.0 ===== NO\n",
            "0.0 ===== NO\n",
            "0.0 ===== NO\n",
            "8.0 ===== NO\n",
            "4.0 ===== NO\n",
            "5.0 ===== YES\n",
            "6.0 ===== YES\n",
            "1.0 ===== YES\n",
            "4.0 ===== NO\n",
            "2.0 ===== YES\n",
            "1.0 ===== NO\n",
            "1.0 ===== NO\n",
            "0.0 ===== NO\n",
            "0.0 ===== NO\n",
            "1.0 ===== YES\n",
            "5.0 ===== YES\n",
            "3.0 ===== NO\n",
            "3.0 ===== YES\n",
            "2.0 ===== NO\n",
            "2.0 ===== NO\n",
            "2.0 ===== NO\n",
            "2.0 ===== NO\n",
            "3.0 ===== NO\n",
            "2.0 ===== YES\n",
            "2.0 ===== NO\n",
            "2.0 ===== NO\n",
            "2.0 ===== YES\n",
            "2.0 ===== NO\n",
            "2.0 ===== NO\n",
            "4.0 ===== NO\n",
            "2.0 ===== NO\n",
            "2.0 ===== NO\n",
            "4.0 ===== NO\n",
            "0.0 ===== YES\n",
            "2.0 ===== YES\n",
            "2.0 ===== NO\n",
            "2.0 ===== NO\n",
            "5.0 ===== YES\n",
            "0.0 ===== NO\n",
            "0.0 ===== NO\n",
            "0.0 ===== YES\n",
            "2.0 ===== NO\n",
            "2.0 ===== NO\n",
            "1.0 ===== NO\n",
            "1.0 ===== NO\n",
            "3.0 ===== NO\n",
            "2.0 ===== NO\n",
            "2.0 ===== NO\n",
            "2.0 ===== NO\n",
            "2.0 ===== NO\n",
            "1.0 ===== NO\n",
            "1.0 ===== NO\n",
            "8.0 ===== YES\n",
            "2.0 ===== NO\n",
            "2.0 ===== NO\n",
            "2.0 ===== YES\n",
            "4.0 ===== NO\n",
            "2.0 ===== NO\n",
            "2.0 ===== NO\n",
            "4.0 ===== YES\n",
            "3.0 ===== YES\n",
            "3.0 ===== NO\n",
            "3.0 ===== YES\n",
            "2.0 ===== NO\n",
            "2.0 ===== NO\n",
            "2.0 ===== NO\n",
            "2.0 ===== NO\n",
            "2.0 ===== NO\n",
            "2.0 ===== NO\n",
            "2.0 ===== NO\n",
            "2.0 ===== NO\n",
            "2.0 ===== YES\n",
            "3.0 ===== NO\n",
            "2.0 ===== NO\n",
            "2.0 ===== NO\n",
            "2.0 ===== YES\n",
            "4.0 ===== YES\n",
            "3.0 ===== NO\n",
            "3.0 ===== YES\n",
            "4.0 ===== YES\n",
            "2.0 ===== YES\n",
            "1.0 ===== YES\n",
            "3.0 ===== YES\n",
            "4.0 ===== NO\n",
            "4.0 ===== YES\n",
            "3.0 ===== YES\n",
            "2.0 ===== NO\n",
            "2.0 ===== NO\n",
            "2.0 ===== NO\n",
            "2.0 ===== NO\n",
            "1.0 ===== YES\n",
            "4.0 ===== YES\n",
            "2.0 ===== NO\n",
            "2.0 ===== NO\n",
            "3.0 ===== YES\n",
            "0.0 ===== YES\n",
            "2.0 ===== NO\n",
            "2.0 ===== NO\n",
            "8.0 ===== YES\n",
            "1.0 ===== NO\n",
            "1.0 ===== NO\n",
            "3.0 ===== NO\n",
            "6.0 ===== NO\n",
            "0.0 ===== NO\n",
            "0.0 ===== NO\n",
            "4.0 ===== NO\n",
            "3.0 ===== NO\n",
            "1.0 ===== NO\n",
            "1.0 ===== NO\n",
            "3.0 ===== YES\n",
            "4.0 ===== YES\n",
            "1.0 ===== NO\n",
            "1.0 ===== NO\n",
            "2.0 ===== YES\n",
            "2.0 ===== YES\n",
            "2.0 ===== NO\n",
            "2.0 ===== NO\n",
            "3.0 ===== NO\n",
            "1.0 ===== YES\n",
            "3.0 ===== NO\n",
            "2.0 ===== NO\n",
            "2.0 ===== NO\n",
            "2.0 ===== YES\n",
            "3.0 ===== NO\n",
            "3.0 ===== YES\n",
            "1.0 ===== NO\n",
            "1.0 ===== NO\n",
            "2.0 ===== NO\n",
            "2.0 ===== NO\n",
            "1.0 ===== YES\n",
            "2.0 ===== NO\n",
            "2.0 ===== NO\n",
            "2.0 ===== YES\n",
            "4.0 ===== NO\n",
            "0.5 ===== YES\n",
            "3.0 ===== YES\n",
            "5.0 ===== NO\n",
            "3.0 ===== NO\n",
            "4.0 ===== YES\n",
            "5.0 ===== NO\n",
            "2.0 ===== YES\n",
            "3.0 ===== NO\n",
            "1.0 ===== NO\n",
            "1.0 ===== NO\n",
            "4.0 ===== NO\n",
            "3.0 ===== NO\n",
            "0.0 ===== NO\n",
            "0.0 ===== NO\n",
            "2.0 ===== NO\n",
            "2.0 ===== NO\n",
            "4.0 ===== YES\n",
            "8.0 ===== YES\n",
            "4.0 ===== NO\n",
            "4.0 ===== YES\n",
            "2.0 ===== NO\n",
            "2.0 ===== NO\n",
            "2.0 ===== NO\n",
            "2.0 ===== NO\n",
            "4.0 ===== YES\n",
            "1.0 ===== NO\n",
            "1.0 ===== NO\n",
            "3.0 ===== NO\n",
            "4.0 ===== YES\n",
            "8.0 ===== NO\n",
            "4.0 ===== YES\n",
            "4.0 ===== YES\n",
            "4.0 ===== NO\n",
            "4.0 ===== YES\n",
            "3.0 ===== NO\n",
            "1.0 ===== NO\n",
            "1.0 ===== NO\n",
            "1.0 ===== NO\n",
            "1.0 ===== NO\n",
            "5.0 ===== YES\n",
            "1.0 ===== YES\n",
            "10.0 ===== NO\n",
            "6.0 ===== YES\n",
            "3.0 ===== YES\n",
            "0.0 ===== NO\n",
            "0.0 ===== NO\n",
            "1.0 ===== YES\n",
            "3.0 ===== YES\n",
            "3.0 ===== YES\n",
            "0.0 ===== NO\n",
            "0.0 ===== NO\n",
            "1.0 ===== YES\n",
            "6.0 ===== YES\n",
            "2.0 ===== NO\n",
            "2.0 ===== NO\n",
            "5.0 ===== YES\n",
            "2.0 ===== NO\n",
            "2.0 ===== NO\n",
            "2.0 ===== NO\n",
            "2.0 ===== NO\n",
            "6.0 ===== YES\n",
            "1.0 ===== NO\n",
            "1.0 ===== NO\n",
            "4.0 ===== YES\n",
            "2.0 ===== NO\n",
            "2.0 ===== NO\n",
            "1.0 ===== YES\n",
            "8.0 ===== NO\n",
            "8.0 ===== YES\n",
            "1.0 ===== YES\n",
            "2.0 ===== YES\n",
            "3.0 ===== YES\n",
            "5.0 ===== YES\n",
            "11.0 ===== YES\n",
            "4.0 ===== YES\n",
            "1.0 ===== NO\n",
            "1.0 ===== NO\n",
            "2.0 ===== YES\n",
            "1.0 ===== YES\n",
            "2.0 ===== YES\n",
            "3.5 ===== YES\n",
            "3.0 ===== NO\n",
            "2.0 ===== NO\n",
            "2.0 ===== NO\n",
            "8.0 ===== NO\n",
            "0.0 ===== YES\n",
            "3.0 ===== YES\n",
            "2.0 ===== YES\n",
            "2.0 ===== YES\n",
            "4.0 ===== YES\n",
            "4.0 ===== NO\n",
            "4.0 ===== NO\n",
            "3.0 ===== YES\n",
            "1.0 ===== NO\n",
            "1.0 ===== NO\n",
            "2.0 ===== NO\n",
            "2.0 ===== NO\n",
            "2.0 ===== YES\n",
            "2.0 ===== YES\n",
            "2.0 ===== YES\n",
            "2.0 ===== NO\n",
            "2.0 ===== NO\n",
            "3.0 ===== YES\n",
            "2.0 ===== YES\n",
            "2.0 ===== YES\n",
            "3.0 ===== YES\n",
            "1.0 ===== YES\n",
            "1.5 ===== NO\n",
            "1.5 ===== NO\n",
            "2.0 ===== YES\n",
            "1.0 ===== YES\n",
            "1.0 ===== NO\n",
            "1.0 ===== NO\n",
            "2.0 ===== YES\n",
            "3.0 ===== NO\n",
            "4.0 ===== NO\n",
            "2.0 ===== YES\n",
            "2.0 ===== YES\n",
            "1.0 ===== YES\n",
            "2.0 ===== NO\n",
            "2.0 ===== NO\n",
            "2.0 ===== YES\n",
            "4.0 ===== YES\n",
            "2.0 ===== YES\n",
            "3.0 ===== YES\n",
            "7.0 ===== YES\n",
            "1.0 ===== YES\n",
            "2.0 ===== NO\n",
            "2.0 ===== NO\n",
            "5.0 ===== YES\n",
            "2.0 ===== YES\n",
            "5.0 ===== YES\n",
            "3.0 ===== YES\n",
            "2.0 ===== YES\n",
            "3.0 ===== YES\n",
            "2.0 ===== YES\n",
            "4.0 ===== YES\n",
            "1.5 ===== NO\n",
            "1.5 ===== NO\n",
            "2.0 ===== YES\n",
            "3.0 ===== NO\n",
            "2.0 ===== YES\n",
            "2.0 ===== YES\n",
            "4.5 ===== YES\n",
            "6.0 ===== YES\n",
            "4.0 ===== YES\n",
            "2.0 ===== NO\n",
            "2.0 ===== NO\n",
            "3.0 ===== YES\n",
            "2.0 ===== YES\n",
            "4.0 ===== NO\n",
            "1.0 ===== NO\n",
            "1.0 ===== NO\n",
            "4.0 ===== YES\n",
            "4.0 ===== YES\n",
            "0.0 ===== NO\n",
            "0.0 ===== NO\n",
            "3.5 ===== YES\n",
            "2.0 ===== YES\n"
          ]
        }
      ]
    },
    {
      "cell_type": "code",
      "metadata": {
        "colab": {
          "base_uri": "https://localhost:8080/"
        },
        "id": "_K0VQZykZzBK",
        "outputId": "1bcd54ef-8079-4a4c-f149-30f55f13d52c"
      },
      "source": [
        "len(extra_mentor)"
      ],
      "execution_count": 41,
      "outputs": [
        {
          "output_type": "execute_result",
          "data": {
            "text/plain": [
              "1182"
            ]
          },
          "metadata": {},
          "execution_count": 41
        }
      ]
    },
    {
      "cell_type": "code",
      "metadata": {
        "colab": {
          "base_uri": "https://localhost:8080/"
        },
        "id": "-r9iZEaAZjK6",
        "outputId": "6ee79ab3-cee3-4111-dc07-f0d665d02c73"
      },
      "source": [
        "extra_mentor.count(1)"
      ],
      "execution_count": 42,
      "outputs": [
        {
          "output_type": "execute_result",
          "data": {
            "text/plain": [
              "363"
            ]
          },
          "metadata": {},
          "execution_count": 42
        }
      ]
    },
    {
      "cell_type": "code",
      "metadata": {
        "colab": {
          "base_uri": "https://localhost:8080/"
        },
        "id": "DtszbfbWZjTc",
        "outputId": "912012e9-53ee-45a9-ae9d-490cf5d84a21"
      },
      "source": [
        "extra_mentor.count(0)"
      ],
      "execution_count": 43,
      "outputs": [
        {
          "output_type": "execute_result",
          "data": {
            "text/plain": [
              "819"
            ]
          },
          "metadata": {},
          "execution_count": 43
        }
      ]
    },
    {
      "cell_type": "code",
      "metadata": {
        "id": "mPR7fkU4ZjZr"
      },
      "source": [
        "student_df[\"Extra_mentoring\"]= extra_mentor"
      ],
      "execution_count": 44,
      "outputs": []
    },
    {
      "cell_type": "code",
      "metadata": {
        "colab": {
          "base_uri": "https://localhost:8080/",
          "height": 521
        },
        "id": "JbwDbg4AZjhA",
        "outputId": "9e3ba535-de1b-41ed-e414-f85d95f620f4"
      },
      "source": [
        "student_df.head()"
      ],
      "execution_count": 45,
      "outputs": [
        {
          "output_type": "execute_result",
          "data": {
            "text/html": [
              "<div>\n",
              "<style scoped>\n",
              "    .dataframe tbody tr th:only-of-type {\n",
              "        vertical-align: middle;\n",
              "    }\n",
              "\n",
              "    .dataframe tbody tr th {\n",
              "        vertical-align: top;\n",
              "    }\n",
              "\n",
              "    .dataframe thead th {\n",
              "        text-align: right;\n",
              "    }\n",
              "</style>\n",
              "<table border=\"1\" class=\"dataframe\">\n",
              "  <thead>\n",
              "    <tr style=\"text-align: right;\">\n",
              "      <th></th>\n",
              "      <th>ID</th>\n",
              "      <th>Region of residence</th>\n",
              "      <th>Age of Subject</th>\n",
              "      <th>Time spent on Online Class</th>\n",
              "      <th>Rating of Online Class experience</th>\n",
              "      <th>Medium for online class</th>\n",
              "      <th>Time spent on self study</th>\n",
              "      <th>Time spent on fitness</th>\n",
              "      <th>Time spent on sleep</th>\n",
              "      <th>Time spent on social media</th>\n",
              "      <th>Prefered social media platform</th>\n",
              "      <th>Time spent on TV</th>\n",
              "      <th>Number of meals per day</th>\n",
              "      <th>Change in your weight</th>\n",
              "      <th>Health issue during lockdown</th>\n",
              "      <th>Stress busters</th>\n",
              "      <th>Time utilized</th>\n",
              "      <th>Do you find yourself more connected with your family, close friends , relatives  ?</th>\n",
              "      <th>What you miss the most</th>\n",
              "      <th>Extra_coaching</th>\n",
              "      <th>Extra_mentoring</th>\n",
              "    </tr>\n",
              "  </thead>\n",
              "  <tbody>\n",
              "    <tr>\n",
              "      <th>0</th>\n",
              "      <td>R1</td>\n",
              "      <td>Delhi-NCR</td>\n",
              "      <td>21</td>\n",
              "      <td>2.0</td>\n",
              "      <td>Good</td>\n",
              "      <td>Laptop/Desktop</td>\n",
              "      <td>4.0</td>\n",
              "      <td>0.0</td>\n",
              "      <td>7.0</td>\n",
              "      <td>3.0</td>\n",
              "      <td>LINKEDIN</td>\n",
              "      <td>1.0</td>\n",
              "      <td>4</td>\n",
              "      <td>Increased</td>\n",
              "      <td>NO</td>\n",
              "      <td>Cooking</td>\n",
              "      <td>YES</td>\n",
              "      <td>YES</td>\n",
              "      <td>people</td>\n",
              "      <td>0</td>\n",
              "      <td>0</td>\n",
              "    </tr>\n",
              "    <tr>\n",
              "      <th>1</th>\n",
              "      <td>R2</td>\n",
              "      <td>Delhi-NCR</td>\n",
              "      <td>21</td>\n",
              "      <td>0.0</td>\n",
              "      <td>Excellent</td>\n",
              "      <td>Smartphone</td>\n",
              "      <td>0.0</td>\n",
              "      <td>2.0</td>\n",
              "      <td>10.0</td>\n",
              "      <td>3.0</td>\n",
              "      <td>YOUTUBE</td>\n",
              "      <td>0.0</td>\n",
              "      <td>3</td>\n",
              "      <td>Decreased</td>\n",
              "      <td>NO</td>\n",
              "      <td>Scrolling through social media</td>\n",
              "      <td>YES</td>\n",
              "      <td>NO</td>\n",
              "      <td>travel</td>\n",
              "      <td>0</td>\n",
              "      <td>0</td>\n",
              "    </tr>\n",
              "    <tr>\n",
              "      <th>2</th>\n",
              "      <td>R3</td>\n",
              "      <td>Delhi-NCR</td>\n",
              "      <td>20</td>\n",
              "      <td>7.0</td>\n",
              "      <td>Very poor</td>\n",
              "      <td>Laptop/Desktop</td>\n",
              "      <td>3.0</td>\n",
              "      <td>0.0</td>\n",
              "      <td>6.0</td>\n",
              "      <td>2.0</td>\n",
              "      <td>LINKEDIN</td>\n",
              "      <td>0.0</td>\n",
              "      <td>3</td>\n",
              "      <td>Remain Constant</td>\n",
              "      <td>NO</td>\n",
              "      <td>Listening to music</td>\n",
              "      <td>NO</td>\n",
              "      <td>YES</td>\n",
              "      <td>travel</td>\n",
              "      <td>0</td>\n",
              "      <td>0</td>\n",
              "    </tr>\n",
              "    <tr>\n",
              "      <th>3</th>\n",
              "      <td>R4</td>\n",
              "      <td>Delhi-NCR</td>\n",
              "      <td>20</td>\n",
              "      <td>3.0</td>\n",
              "      <td>Very poor</td>\n",
              "      <td>Smartphone</td>\n",
              "      <td>2.0</td>\n",
              "      <td>1.0</td>\n",
              "      <td>6.0</td>\n",
              "      <td>5.0</td>\n",
              "      <td>INSTAGRAM</td>\n",
              "      <td>0.0</td>\n",
              "      <td>3</td>\n",
              "      <td>Decreased</td>\n",
              "      <td>NO</td>\n",
              "      <td>Watching web series</td>\n",
              "      <td>NO</td>\n",
              "      <td>NO</td>\n",
              "      <td>people</td>\n",
              "      <td>1</td>\n",
              "      <td>1</td>\n",
              "    </tr>\n",
              "    <tr>\n",
              "      <th>4</th>\n",
              "      <td>R5</td>\n",
              "      <td>Delhi-NCR</td>\n",
              "      <td>21</td>\n",
              "      <td>3.0</td>\n",
              "      <td>Good</td>\n",
              "      <td>Laptop/Desktop</td>\n",
              "      <td>3.0</td>\n",
              "      <td>1.0</td>\n",
              "      <td>8.0</td>\n",
              "      <td>3.0</td>\n",
              "      <td>INSTAGRAM</td>\n",
              "      <td>1.0</td>\n",
              "      <td>4</td>\n",
              "      <td>Remain Constant</td>\n",
              "      <td>NO</td>\n",
              "      <td>Social Media</td>\n",
              "      <td>NO</td>\n",
              "      <td>NO</td>\n",
              "      <td>travel</td>\n",
              "      <td>0</td>\n",
              "      <td>0</td>\n",
              "    </tr>\n",
              "  </tbody>\n",
              "</table>\n",
              "</div>"
            ],
            "text/plain": [
              "   ID Region of residence  ...  Extra_coaching  Extra_mentoring\n",
              "0  R1           Delhi-NCR  ...               0                0\n",
              "1  R2           Delhi-NCR  ...               0                0\n",
              "2  R3           Delhi-NCR  ...               0                0\n",
              "3  R4           Delhi-NCR  ...               1                1\n",
              "4  R5           Delhi-NCR  ...               0                0\n",
              "\n",
              "[5 rows x 21 columns]"
            ]
          },
          "metadata": {},
          "execution_count": 45
        }
      ]
    },
    {
      "cell_type": "markdown",
      "metadata": {
        "id": "URcubihZkFum"
      },
      "source": [
        "##Personal Trainer"
      ]
    },
    {
      "cell_type": "code",
      "metadata": {
        "id": "H7CcnAUyhWdR"
      },
      "source": [
        "prsnl_trainer= []"
      ],
      "execution_count": 46,
      "outputs": []
    },
    {
      "cell_type": "code",
      "metadata": {
        "id": "LydXBGEkhWwL"
      },
      "source": [
        "for i in range(len(student_df.ID)):\n",
        "  \n",
        "  if (student_df[\"Time spent on fitness\"][i] < 1.0) & (student_df[\"Change in your weight\"][i] == \"Increased\"):\n",
        "    prsnl_trainer.append(1)\n",
        "   \n",
        "   \n",
        "  else:\n",
        "    prsnl_trainer.append(0)"
      ],
      "execution_count": 47,
      "outputs": []
    },
    {
      "cell_type": "code",
      "metadata": {
        "colab": {
          "base_uri": "https://localhost:8080/"
        },
        "id": "GGvCw1S6hW2a",
        "outputId": "fa216791-5a33-4b44-c46d-0607526e5b57"
      },
      "source": [
        "len(prsnl_trainer)"
      ],
      "execution_count": 48,
      "outputs": [
        {
          "output_type": "execute_result",
          "data": {
            "text/plain": [
              "1182"
            ]
          },
          "metadata": {},
          "execution_count": 48
        }
      ]
    },
    {
      "cell_type": "code",
      "metadata": {
        "colab": {
          "base_uri": "https://localhost:8080/"
        },
        "id": "gwmqkhyGhYQM",
        "outputId": "51ae9e57-7280-416e-95eb-974ccb11bdf3"
      },
      "source": [
        "prsnl_trainer.count(1)"
      ],
      "execution_count": 49,
      "outputs": [
        {
          "output_type": "execute_result",
          "data": {
            "text/plain": [
              "203"
            ]
          },
          "metadata": {},
          "execution_count": 49
        }
      ]
    },
    {
      "cell_type": "code",
      "metadata": {
        "colab": {
          "base_uri": "https://localhost:8080/"
        },
        "id": "yznVM-2khYVd",
        "outputId": "ea9570e5-6e80-4685-fb46-72a56a41857d"
      },
      "source": [
        "prsnl_trainer.count(0)"
      ],
      "execution_count": 50,
      "outputs": [
        {
          "output_type": "execute_result",
          "data": {
            "text/plain": [
              "979"
            ]
          },
          "metadata": {},
          "execution_count": 50
        }
      ]
    },
    {
      "cell_type": "code",
      "metadata": {
        "id": "vEV5ejxMjqDI"
      },
      "source": [
        "student_df[\"prsnl_trainer\"]= prsnl_trainer"
      ],
      "execution_count": 51,
      "outputs": []
    },
    {
      "cell_type": "markdown",
      "metadata": {
        "id": "wZz2JZB_kORz"
      },
      "source": [
        "\n",
        "\n",
        "```\n",
        "# This is formatted as code\n",
        "```\n",
        "\n",
        "##Online-Consulting"
      ]
    },
    {
      "cell_type": "code",
      "metadata": {
        "id": "BMza_ppwjqw6"
      },
      "source": [
        "onlin_cons=[]"
      ],
      "execution_count": 56,
      "outputs": []
    },
    {
      "cell_type": "code",
      "metadata": {
        "colab": {
          "base_uri": "https://localhost:8080/"
        },
        "id": "TuZQIEVDjq4J",
        "outputId": "03eb24ba-238a-4480-90d3-5c15f7d7cba8"
      },
      "source": [
        "for i in range(len(student_df.ID)):\n",
        "  \n",
        "  if (student_df[\"Health issue during lockdown\"][i] == \"YES\") or (student_df[\"Change in your weight\"][i] == \"Decreased\"):\n",
        "    onlin_cons.append(1)\n",
        "   \n",
        "   \n",
        "  else:\n",
        "    onlin_cons.append(0)\n",
        "print(len(onlin_cons), onlin_cons.count(1), onlin_cons.count(0))    "
      ],
      "execution_count": 57,
      "outputs": [
        {
          "output_type": "stream",
          "name": "stdout",
          "text": [
            "1182 320 862\n"
          ]
        }
      ]
    },
    {
      "cell_type": "code",
      "metadata": {
        "id": "IStMO0CBjrEf"
      },
      "source": [
        "student_df[\"onlin_cons\"]= onlin_cons"
      ],
      "execution_count": 58,
      "outputs": []
    },
    {
      "cell_type": "markdown",
      "metadata": {
        "id": "gbQeoSI1mApw"
      },
      "source": [
        "##Digital_use"
      ]
    },
    {
      "cell_type": "code",
      "metadata": {
        "colab": {
          "base_uri": "https://localhost:8080/"
        },
        "id": "lKtwNKcNmFPF",
        "outputId": "2dc10159-99a9-4fb1-a4d2-44bacd1eac61"
      },
      "source": [
        "student_df [\"Stress busters\"].unique()"
      ],
      "execution_count": 59,
      "outputs": [
        {
          "output_type": "execute_result",
          "data": {
            "text/plain": [
              "array(['Cooking', 'Scrolling through social media', 'Listening to music',\n",
              "       'Watching web series', 'Social Media',\n",
              "       'Coding and studying for exams', 'Online surfing',\n",
              "       'live stream watching', 'Reading', 'Online gaming',\n",
              "       'Reading books', 'Dancing', 'Talking with friends ',\n",
              "       'Talking to your relatives',\n",
              "       'sketching,reading books,meditation,songs',\n",
              "       'Watching orgasm releasing videos', 'Sleep', 'Crying',\n",
              "       'Many of these', 'Web Series', 'drawing ', 'Meditation', 'Cricket',\n",
              "       'Anime Manga', 'Sleeping', 'Sketching and writing', 'Writing',\n",
              "       'pubg', 'Talking', 'Workout ', 'Whatever want', 'Indoor Games',\n",
              "       'watching movies,reading books,games,listening to music,sleep,dancing',\n",
              "       'gardening cartoon',\n",
              "       'listening to music,reading books and dancing.',\n",
              "       'Dont get distreessed',\n",
              "       ' listening music, motion design, graphic design, sleeping.',\n",
              "       'Business', 'Many among these ', 'Talk with childhood friends.',\n",
              "       'Playing ', 'Exercise', 'Talking to friends',\n",
              "       'Netflix, Friends and Books', 'Driving', 'I run', 'Running',\n",
              "       'Exercising', 'Football', 'singing', 'Cardio',\n",
              "       'I cant de-stress myslef',\n",
              "       'working out and some physical activity',\n",
              "       'Writing my own Comics & novels', 'Gym',\n",
              "       'I have no problem of stress ', 'workout',\n",
              "       'No able to reduce the stress ', 'Sleeping, Online games',\n",
              "       'By engaging in my work.', 'Work', 'Painting,. Sewing', 'Drawing',\n",
              "       'Forming ', 'Workout and listening music',\n",
              "       'Both listining music and scrolling down social media', 'Painting',\n",
              "       'Sketching', 'Sports', 'Drawing and painting and sketching',\n",
              "       'With a friend', 'Reading books, music, exercise',\n",
              "       'Watching ted talks and music and books', 'Calling friends',\n",
              "       'no stress', 'Drawing, painting',\n",
              "       'All reading books watching web series listening to music and talking to friends',\n",
              "       'Do some home related stuff', 'Painting ', 'Youtube',\n",
              "       'Taking with parents',\n",
              "       'Online gaming , surfing and listening to music ',\n",
              "       'I play Rubiks cube',\n",
              "       'Listening to music and reading books both . ',\n",
              "       'Poetry, writing books and novels , listening to music too',\n",
              "       'Watching YouTube '], dtype=object)"
            ]
          },
          "metadata": {},
          "execution_count": 59
        }
      ]
    },
    {
      "cell_type": "code",
      "metadata": {
        "id": "ZFBQ9nNQmKwQ"
      },
      "source": [
        "digital_key= [\"media\", \"music\", \"web\", \"series\",\"Coding\", \"Online\",\"stream\", \"gaming\",\"songs\",\"videos\",\"Manga\",\"anime\",\"pubg\",\"movies\", 'cartoon',\"game\",'design',\"Netflix\",'watching' ]"
      ],
      "execution_count": 60,
      "outputs": []
    },
    {
      "cell_type": "code",
      "metadata": {
        "colab": {
          "base_uri": "https://localhost:8080/"
        },
        "id": "uYF9ZmJ_oJpm",
        "outputId": "72394d1e-b4af-4dbe-8736-81b84a8aaa21"
      },
      "source": [
        "for i in range(len(digital_key)):\n",
        "  digital_key[i]= digital_key[i].lower()\n",
        "digital_key  "
      ],
      "execution_count": 61,
      "outputs": [
        {
          "output_type": "execute_result",
          "data": {
            "text/plain": [
              "['media',\n",
              " 'music',\n",
              " 'web',\n",
              " 'series',\n",
              " 'coding',\n",
              " 'online',\n",
              " 'stream',\n",
              " 'gaming',\n",
              " 'songs',\n",
              " 'videos',\n",
              " 'manga',\n",
              " 'anime',\n",
              " 'pubg',\n",
              " 'movies',\n",
              " 'cartoon',\n",
              " 'game',\n",
              " 'design',\n",
              " 'netflix',\n",
              " 'watching']"
            ]
          },
          "metadata": {},
          "execution_count": 61
        }
      ]
    },
    {
      "cell_type": "code",
      "metadata": {
        "colab": {
          "base_uri": "https://localhost:8080/"
        },
        "id": "Rk4hCfQvoJxX",
        "outputId": "c5a22d65-46f5-4807-db7f-099c87f0f067"
      },
      "source": [
        "digital_use= []\n",
        "for i in student_df [\"Stress busters\"]:\n",
        "  x= re.split(', |,| , |  |/| ', i.strip())\n",
        "  a=0\n",
        "  for i in digital_key:\n",
        "    if i in x:\n",
        "      digital_use.append(1)\n",
        "      break\n",
        "    a+=1  \n",
        "  if a == len(digital_key):\n",
        "    digital_use.append(0) \n",
        "print(len(digital_use),digital_use.count(0), digital_use.count(1))     "
      ],
      "execution_count": 62,
      "outputs": [
        {
          "output_type": "stream",
          "name": "stdout",
          "text": [
            "1182 539 643\n"
          ]
        }
      ]
    },
    {
      "cell_type": "code",
      "metadata": {
        "id": "ChPnRv71oJ32"
      },
      "source": [
        "student_df[\"digital_use\"]= digital_use"
      ],
      "execution_count": 63,
      "outputs": []
    },
    {
      "cell_type": "code",
      "metadata": {
        "colab": {
          "base_uri": "https://localhost:8080/",
          "height": 521
        },
        "id": "UhLGHvJ0oJ-F",
        "outputId": "948884ec-88cb-4174-86f8-5bf77181575a"
      },
      "source": [
        "student_df.head()"
      ],
      "execution_count": 64,
      "outputs": [
        {
          "output_type": "execute_result",
          "data": {
            "text/html": [
              "<div>\n",
              "<style scoped>\n",
              "    .dataframe tbody tr th:only-of-type {\n",
              "        vertical-align: middle;\n",
              "    }\n",
              "\n",
              "    .dataframe tbody tr th {\n",
              "        vertical-align: top;\n",
              "    }\n",
              "\n",
              "    .dataframe thead th {\n",
              "        text-align: right;\n",
              "    }\n",
              "</style>\n",
              "<table border=\"1\" class=\"dataframe\">\n",
              "  <thead>\n",
              "    <tr style=\"text-align: right;\">\n",
              "      <th></th>\n",
              "      <th>ID</th>\n",
              "      <th>Region of residence</th>\n",
              "      <th>Age of Subject</th>\n",
              "      <th>Time spent on Online Class</th>\n",
              "      <th>Rating of Online Class experience</th>\n",
              "      <th>Medium for online class</th>\n",
              "      <th>Time spent on self study</th>\n",
              "      <th>Time spent on fitness</th>\n",
              "      <th>Time spent on sleep</th>\n",
              "      <th>Time spent on social media</th>\n",
              "      <th>Prefered social media platform</th>\n",
              "      <th>Time spent on TV</th>\n",
              "      <th>Number of meals per day</th>\n",
              "      <th>Change in your weight</th>\n",
              "      <th>Health issue during lockdown</th>\n",
              "      <th>Stress busters</th>\n",
              "      <th>Time utilized</th>\n",
              "      <th>Do you find yourself more connected with your family, close friends , relatives  ?</th>\n",
              "      <th>What you miss the most</th>\n",
              "      <th>Extra_coaching</th>\n",
              "      <th>Extra_mentoring</th>\n",
              "      <th>prsnl_trainer</th>\n",
              "      <th>onlin_cons</th>\n",
              "      <th>digital_use</th>\n",
              "    </tr>\n",
              "  </thead>\n",
              "  <tbody>\n",
              "    <tr>\n",
              "      <th>0</th>\n",
              "      <td>R1</td>\n",
              "      <td>Delhi-NCR</td>\n",
              "      <td>21</td>\n",
              "      <td>2.0</td>\n",
              "      <td>Good</td>\n",
              "      <td>Laptop/Desktop</td>\n",
              "      <td>4.0</td>\n",
              "      <td>0.0</td>\n",
              "      <td>7.0</td>\n",
              "      <td>3.0</td>\n",
              "      <td>LINKEDIN</td>\n",
              "      <td>1.0</td>\n",
              "      <td>4</td>\n",
              "      <td>Increased</td>\n",
              "      <td>NO</td>\n",
              "      <td>Cooking</td>\n",
              "      <td>YES</td>\n",
              "      <td>YES</td>\n",
              "      <td>people</td>\n",
              "      <td>0</td>\n",
              "      <td>0</td>\n",
              "      <td>1</td>\n",
              "      <td>0</td>\n",
              "      <td>0</td>\n",
              "    </tr>\n",
              "    <tr>\n",
              "      <th>1</th>\n",
              "      <td>R2</td>\n",
              "      <td>Delhi-NCR</td>\n",
              "      <td>21</td>\n",
              "      <td>0.0</td>\n",
              "      <td>Excellent</td>\n",
              "      <td>Smartphone</td>\n",
              "      <td>0.0</td>\n",
              "      <td>2.0</td>\n",
              "      <td>10.0</td>\n",
              "      <td>3.0</td>\n",
              "      <td>YOUTUBE</td>\n",
              "      <td>0.0</td>\n",
              "      <td>3</td>\n",
              "      <td>Decreased</td>\n",
              "      <td>NO</td>\n",
              "      <td>Scrolling through social media</td>\n",
              "      <td>YES</td>\n",
              "      <td>NO</td>\n",
              "      <td>travel</td>\n",
              "      <td>0</td>\n",
              "      <td>0</td>\n",
              "      <td>0</td>\n",
              "      <td>1</td>\n",
              "      <td>1</td>\n",
              "    </tr>\n",
              "    <tr>\n",
              "      <th>2</th>\n",
              "      <td>R3</td>\n",
              "      <td>Delhi-NCR</td>\n",
              "      <td>20</td>\n",
              "      <td>7.0</td>\n",
              "      <td>Very poor</td>\n",
              "      <td>Laptop/Desktop</td>\n",
              "      <td>3.0</td>\n",
              "      <td>0.0</td>\n",
              "      <td>6.0</td>\n",
              "      <td>2.0</td>\n",
              "      <td>LINKEDIN</td>\n",
              "      <td>0.0</td>\n",
              "      <td>3</td>\n",
              "      <td>Remain Constant</td>\n",
              "      <td>NO</td>\n",
              "      <td>Listening to music</td>\n",
              "      <td>NO</td>\n",
              "      <td>YES</td>\n",
              "      <td>travel</td>\n",
              "      <td>0</td>\n",
              "      <td>0</td>\n",
              "      <td>0</td>\n",
              "      <td>0</td>\n",
              "      <td>1</td>\n",
              "    </tr>\n",
              "    <tr>\n",
              "      <th>3</th>\n",
              "      <td>R4</td>\n",
              "      <td>Delhi-NCR</td>\n",
              "      <td>20</td>\n",
              "      <td>3.0</td>\n",
              "      <td>Very poor</td>\n",
              "      <td>Smartphone</td>\n",
              "      <td>2.0</td>\n",
              "      <td>1.0</td>\n",
              "      <td>6.0</td>\n",
              "      <td>5.0</td>\n",
              "      <td>INSTAGRAM</td>\n",
              "      <td>0.0</td>\n",
              "      <td>3</td>\n",
              "      <td>Decreased</td>\n",
              "      <td>NO</td>\n",
              "      <td>Watching web series</td>\n",
              "      <td>NO</td>\n",
              "      <td>NO</td>\n",
              "      <td>people</td>\n",
              "      <td>1</td>\n",
              "      <td>1</td>\n",
              "      <td>0</td>\n",
              "      <td>1</td>\n",
              "      <td>1</td>\n",
              "    </tr>\n",
              "    <tr>\n",
              "      <th>4</th>\n",
              "      <td>R5</td>\n",
              "      <td>Delhi-NCR</td>\n",
              "      <td>21</td>\n",
              "      <td>3.0</td>\n",
              "      <td>Good</td>\n",
              "      <td>Laptop/Desktop</td>\n",
              "      <td>3.0</td>\n",
              "      <td>1.0</td>\n",
              "      <td>8.0</td>\n",
              "      <td>3.0</td>\n",
              "      <td>INSTAGRAM</td>\n",
              "      <td>1.0</td>\n",
              "      <td>4</td>\n",
              "      <td>Remain Constant</td>\n",
              "      <td>NO</td>\n",
              "      <td>Social Media</td>\n",
              "      <td>NO</td>\n",
              "      <td>NO</td>\n",
              "      <td>travel</td>\n",
              "      <td>0</td>\n",
              "      <td>0</td>\n",
              "      <td>0</td>\n",
              "      <td>0</td>\n",
              "      <td>0</td>\n",
              "    </tr>\n",
              "  </tbody>\n",
              "</table>\n",
              "</div>"
            ],
            "text/plain": [
              "   ID Region of residence  ...  onlin_cons  digital_use\n",
              "0  R1           Delhi-NCR  ...           0            0\n",
              "1  R2           Delhi-NCR  ...           1            1\n",
              "2  R3           Delhi-NCR  ...           0            1\n",
              "3  R4           Delhi-NCR  ...           1            1\n",
              "4  R5           Delhi-NCR  ...           0            0\n",
              "\n",
              "[5 rows x 24 columns]"
            ]
          },
          "metadata": {},
          "execution_count": 64
        }
      ]
    },
    {
      "cell_type": "markdown",
      "metadata": {
        "id": "mHXHJG1QyIIB"
      },
      "source": [
        "##meal offers"
      ]
    },
    {
      "cell_type": "code",
      "metadata": {
        "colab": {
          "base_uri": "https://localhost:8080/"
        },
        "id": "UmcOEaLrjrNM",
        "outputId": "c67541bc-5c26-44b5-fe38-01714e83644b"
      },
      "source": [
        "meals=[]\n",
        "for i in range(len(student_df.ID)):\n",
        "  \n",
        "  if ((student_df[\"Number of meals per day\"][i] >2) & (student_df[\"digital_use\"][i] == 1)) or (student_df[\"What you miss the most\"][i] == 'eating'):\n",
        "    meals.append(1)\n",
        "   \n",
        "   \n",
        "  else:\n",
        "    meals.append(0)\n",
        "print(len(meals),meals.count(0), meals.count(1))     "
      ],
      "execution_count": 67,
      "outputs": [
        {
          "output_type": "stream",
          "name": "stdout",
          "text": [
            "1182 657 525\n"
          ]
        }
      ]
    },
    {
      "cell_type": "code",
      "metadata": {
        "id": "jXE4Lk721Arr"
      },
      "source": [
        "student_df[\"meal_offer\"]= meals"
      ],
      "execution_count": 68,
      "outputs": []
    },
    {
      "cell_type": "markdown",
      "metadata": {
        "id": "zu_zkpA-zaJW"
      },
      "source": [
        "##socialize_add"
      ]
    },
    {
      "cell_type": "code",
      "metadata": {
        "colab": {
          "base_uri": "https://localhost:8080/"
        },
        "id": "8yXWQIQezW-0",
        "outputId": "08438e09-edb2-4b44-f674-ad1e8e07304a"
      },
      "source": [
        "soc_add=[]\n",
        "\n",
        "for i in range(len(student_df.ID)):\n",
        "  \n",
        "  if student_df[\"What you miss the most\"][i] == 'people':\n",
        "    soc_add.append(1)\n",
        "   \n",
        "   \n",
        "  else:\n",
        "    soc_add.append(0)\n",
        "print(len(soc_add),soc_add.count(0), soc_add.count(1)) \n"
      ],
      "execution_count": 69,
      "outputs": [
        {
          "output_type": "stream",
          "name": "stdout",
          "text": [
            "1182 504 678\n"
          ]
        }
      ]
    },
    {
      "cell_type": "code",
      "metadata": {
        "id": "FigfV8ZqzXMp"
      },
      "source": [
        "student_df[\"socil_add\"]= soc_add"
      ],
      "execution_count": 70,
      "outputs": []
    },
    {
      "cell_type": "markdown",
      "metadata": {
        "id": "4oqqqUhY0UZ8"
      },
      "source": [
        "##travel"
      ]
    },
    {
      "cell_type": "code",
      "metadata": {
        "colab": {
          "base_uri": "https://localhost:8080/"
        },
        "id": "T6be3EqgzXXP",
        "outputId": "4ffabff6-a576-4d2e-d7d4-e25967d59795"
      },
      "source": [
        "trvl_add=[]\n",
        "\n",
        "for i in range(len(student_df.ID)):\n",
        "  \n",
        "  if student_df[\"What you miss the most\"][i] == 'travel':\n",
        "    trvl_add.append(1)\n",
        "   \n",
        "  else:\n",
        "    trvl_add.append(0)\n",
        "print(len(trvl_add),trvl_add.count(0), trvl_add.count(1))"
      ],
      "execution_count": 71,
      "outputs": [
        {
          "output_type": "stream",
          "name": "stdout",
          "text": [
            "1182 848 334\n"
          ]
        }
      ]
    },
    {
      "cell_type": "code",
      "metadata": {
        "id": "Ib_BUKwczXh1"
      },
      "source": [
        "student_df[\"trvl_add\"]= trvl_add"
      ],
      "execution_count": 72,
      "outputs": []
    },
    {
      "cell_type": "code",
      "metadata": {
        "colab": {
          "base_uri": "https://localhost:8080/"
        },
        "id": "7wtDCYyZzXo-",
        "outputId": "7affccda-0c86-4156-c3a9-a6abcb25bada"
      },
      "source": [
        "student_df[\"trvl_add\"].value_counts()"
      ],
      "execution_count": 73,
      "outputs": [
        {
          "output_type": "execute_result",
          "data": {
            "text/plain": [
              "0    848\n",
              "1    334\n",
              "Name: trvl_add, dtype: int64"
            ]
          },
          "metadata": {},
          "execution_count": 73
        }
      ]
    },
    {
      "cell_type": "markdown",
      "metadata": {
        "id": "6iGreLjahAXN"
      },
      "source": [
        "##Plots"
      ]
    },
    {
      "cell_type": "code",
      "metadata": {
        "id": "R0et-yGLYljH"
      },
      "source": [
        "sns.swarmplot(y='Time spent on Online Class', x='Rating of Online Class experience', data=student_df);"
      ],
      "execution_count": null,
      "outputs": []
    },
    {
      "cell_type": "code",
      "metadata": {
        "id": "vdrKJpm_YlsY"
      },
      "source": [
        "sns.jointplot(y='Time spent on Online Class', x='Time spent on self study', data=student_df );"
      ],
      "execution_count": null,
      "outputs": []
    },
    {
      "cell_type": "code",
      "metadata": {
        "id": "MUEvjE5NYmEQ"
      },
      "source": [
        "sns.jointplot(y='digital_use', x='Prefered social media platform', data= student_df);"
      ],
      "execution_count": null,
      "outputs": []
    },
    {
      "cell_type": "code",
      "metadata": {
        "id": "DlmSXb31KF1h"
      },
      "source": [
        "\n",
        "student_df.head()"
      ],
      "execution_count": null,
      "outputs": []
    },
    {
      "cell_type": "code",
      "metadata": {
        "id": "uRe9n0BUhmlP"
      },
      "source": [
        "c= student_df.groupby(\"Prefered social media platform\")[\"Prefered social media platform\"].count()"
      ],
      "execution_count": 78,
      "outputs": []
    },
    {
      "cell_type": "code",
      "metadata": {
        "colab": {
          "base_uri": "https://localhost:8080/"
        },
        "id": "xRsKJ8sehmuf",
        "outputId": "39a4c956-1cd1-4179-a94c-44d898953a1f"
      },
      "source": [
        "c"
      ],
      "execution_count": 79,
      "outputs": [
        {
          "output_type": "execute_result",
          "data": {
            "text/plain": [
              "Prefered social media platform\n",
              "FACEBOOK      52\n",
              "INSTAGRAM    352\n",
              "LINKEDIN      61\n",
              "NONE          18\n",
              "OTHERS        20\n",
              "TWITTER       28\n",
              "WHATSAPP     337\n",
              "YOUTUBE      314\n",
              "Name: Prefered social media platform, dtype: int64"
            ]
          },
          "metadata": {},
          "execution_count": 79
        }
      ]
    },
    {
      "cell_type": "markdown",
      "metadata": {
        "id": "Ij87FMw22Ean"
      },
      "source": [
        ""
      ]
    },
    {
      "cell_type": "code",
      "metadata": {
        "id": "pF0Qelza2BMt"
      },
      "source": [
        "c[\"OTHERS\"]= c[\"LINKEDIN\"] + c[\"TWITTER\"] +c[\"NONE\"] +c[\"OTHERS\"]\n",
        "c.drop(index= ['LINKEDIN','TWITTER','NONE'], inplace= True)"
      ],
      "execution_count": 80,
      "outputs": []
    },
    {
      "cell_type": "code",
      "metadata": {
        "colab": {
          "base_uri": "https://localhost:8080/"
        },
        "id": "nXVO_zxG2FWG",
        "outputId": "50a49a02-6dc5-4a94-c5c7-924b925bcd07"
      },
      "source": [
        "c"
      ],
      "execution_count": 81,
      "outputs": [
        {
          "output_type": "execute_result",
          "data": {
            "text/plain": [
              "Prefered social media platform\n",
              "FACEBOOK      52\n",
              "INSTAGRAM    352\n",
              "OTHERS       127\n",
              "WHATSAPP     337\n",
              "YOUTUBE      314\n",
              "Name: Prefered social media platform, dtype: int64"
            ]
          },
          "metadata": {},
          "execution_count": 81
        }
      ]
    },
    {
      "cell_type": "code",
      "metadata": {
        "id": "enXD_T3c1rIo"
      },
      "source": [
        "sns.barplot(x= c.index,y=c.values )"
      ],
      "execution_count": null,
      "outputs": []
    },
    {
      "cell_type": "code",
      "metadata": {
        "id": "xtdcTP7c6XR0"
      },
      "source": [
        ""
      ],
      "execution_count": null,
      "outputs": []
    },
    {
      "cell_type": "code",
      "metadata": {
        "id": "S1x6vgZHhm5w"
      },
      "source": [
        "cd= pd.crosstab(student_df[\"Prefered social media platform\"], student_df[\"digital_use\"])"
      ],
      "execution_count": 100,
      "outputs": []
    },
    {
      "cell_type": "code",
      "metadata": {
        "colab": {
          "base_uri": "https://localhost:8080/",
          "height": 331
        },
        "id": "LE2CSQ4Hknk2",
        "outputId": "26772c1b-acf2-46b7-9a78-e9b02cea95a2"
      },
      "source": [
        "cd"
      ],
      "execution_count": 101,
      "outputs": [
        {
          "output_type": "execute_result",
          "data": {
            "text/html": [
              "<div>\n",
              "<style scoped>\n",
              "    .dataframe tbody tr th:only-of-type {\n",
              "        vertical-align: middle;\n",
              "    }\n",
              "\n",
              "    .dataframe tbody tr th {\n",
              "        vertical-align: top;\n",
              "    }\n",
              "\n",
              "    .dataframe thead th {\n",
              "        text-align: right;\n",
              "    }\n",
              "</style>\n",
              "<table border=\"1\" class=\"dataframe\">\n",
              "  <thead>\n",
              "    <tr style=\"text-align: right;\">\n",
              "      <th>digital_use</th>\n",
              "      <th>0</th>\n",
              "      <th>1</th>\n",
              "    </tr>\n",
              "    <tr>\n",
              "      <th>Prefered social media platform</th>\n",
              "      <th></th>\n",
              "      <th></th>\n",
              "    </tr>\n",
              "  </thead>\n",
              "  <tbody>\n",
              "    <tr>\n",
              "      <th>FACEBOOK</th>\n",
              "      <td>26</td>\n",
              "      <td>26</td>\n",
              "    </tr>\n",
              "    <tr>\n",
              "      <th>INSTAGRAM</th>\n",
              "      <td>136</td>\n",
              "      <td>216</td>\n",
              "    </tr>\n",
              "    <tr>\n",
              "      <th>LINKEDIN</th>\n",
              "      <td>32</td>\n",
              "      <td>29</td>\n",
              "    </tr>\n",
              "    <tr>\n",
              "      <th>NONE</th>\n",
              "      <td>12</td>\n",
              "      <td>6</td>\n",
              "    </tr>\n",
              "    <tr>\n",
              "      <th>OTHERS</th>\n",
              "      <td>11</td>\n",
              "      <td>9</td>\n",
              "    </tr>\n",
              "    <tr>\n",
              "      <th>TWITTER</th>\n",
              "      <td>14</td>\n",
              "      <td>14</td>\n",
              "    </tr>\n",
              "    <tr>\n",
              "      <th>WHATSAPP</th>\n",
              "      <td>166</td>\n",
              "      <td>171</td>\n",
              "    </tr>\n",
              "    <tr>\n",
              "      <th>YOUTUBE</th>\n",
              "      <td>142</td>\n",
              "      <td>172</td>\n",
              "    </tr>\n",
              "  </tbody>\n",
              "</table>\n",
              "</div>"
            ],
            "text/plain": [
              "digital_use                       0    1\n",
              "Prefered social media platform          \n",
              "FACEBOOK                         26   26\n",
              "INSTAGRAM                       136  216\n",
              "LINKEDIN                         32   29\n",
              "NONE                             12    6\n",
              "OTHERS                           11    9\n",
              "TWITTER                          14   14\n",
              "WHATSAPP                        166  171\n",
              "YOUTUBE                         142  172"
            ]
          },
          "metadata": {},
          "execution_count": 101
        }
      ]
    },
    {
      "cell_type": "code",
      "metadata": {
        "id": "5eRTRHm0hnE6",
        "colab": {
          "base_uri": "https://localhost:8080/",
          "height": 237
        },
        "outputId": "fd1c245b-97eb-4509-ea51-6e2f57c7706b"
      },
      "source": [
        "cd.loc[\"OTHERS\",:]= cd.loc[\"LINKEDIN\",:] + cd.loc[\"TWITTER\",:] +cd.loc[\"NONE\",:] +cd.loc[\"OTHERS\",:]\n",
        "cd.drop(index= ['LINKEDIN','TWITTER','NONE'], inplace= True)\n",
        "cd\n"
      ],
      "execution_count": 102,
      "outputs": [
        {
          "output_type": "execute_result",
          "data": {
            "text/html": [
              "<div>\n",
              "<style scoped>\n",
              "    .dataframe tbody tr th:only-of-type {\n",
              "        vertical-align: middle;\n",
              "    }\n",
              "\n",
              "    .dataframe tbody tr th {\n",
              "        vertical-align: top;\n",
              "    }\n",
              "\n",
              "    .dataframe thead th {\n",
              "        text-align: right;\n",
              "    }\n",
              "</style>\n",
              "<table border=\"1\" class=\"dataframe\">\n",
              "  <thead>\n",
              "    <tr style=\"text-align: right;\">\n",
              "      <th>digital_use</th>\n",
              "      <th>0</th>\n",
              "      <th>1</th>\n",
              "    </tr>\n",
              "    <tr>\n",
              "      <th>Prefered social media platform</th>\n",
              "      <th></th>\n",
              "      <th></th>\n",
              "    </tr>\n",
              "  </thead>\n",
              "  <tbody>\n",
              "    <tr>\n",
              "      <th>FACEBOOK</th>\n",
              "      <td>26</td>\n",
              "      <td>26</td>\n",
              "    </tr>\n",
              "    <tr>\n",
              "      <th>INSTAGRAM</th>\n",
              "      <td>136</td>\n",
              "      <td>216</td>\n",
              "    </tr>\n",
              "    <tr>\n",
              "      <th>OTHERS</th>\n",
              "      <td>69</td>\n",
              "      <td>58</td>\n",
              "    </tr>\n",
              "    <tr>\n",
              "      <th>WHATSAPP</th>\n",
              "      <td>166</td>\n",
              "      <td>171</td>\n",
              "    </tr>\n",
              "    <tr>\n",
              "      <th>YOUTUBE</th>\n",
              "      <td>142</td>\n",
              "      <td>172</td>\n",
              "    </tr>\n",
              "  </tbody>\n",
              "</table>\n",
              "</div>"
            ],
            "text/plain": [
              "digital_use                       0    1\n",
              "Prefered social media platform          \n",
              "FACEBOOK                         26   26\n",
              "INSTAGRAM                       136  216\n",
              "OTHERS                           69   58\n",
              "WHATSAPP                        166  171\n",
              "YOUTUBE                         142  172"
            ]
          },
          "metadata": {},
          "execution_count": 102
        }
      ]
    },
    {
      "cell_type": "code",
      "metadata": {
        "id": "kAsiKUIuihVF",
        "colab": {
          "base_uri": "https://localhost:8080/",
          "height": 705
        },
        "outputId": "488eca17-e741-4998-ec51-aa9b9e84059d"
      },
      "source": [
        "plt.pie(cd.sum(axis =1), labels= cd.index, radius= 1.5, wedgeprops= dict(width= 0.5) )\n",
        "plt.pie(cd.values.flatten(), radius=1, \n",
        "        wedgeprops=dict(width=0.5));"
      ],
      "execution_count": 103,
      "outputs": [
        {
          "output_type": "display_data",
          "data": {
            "image/png": "[encoded data removed]",
            "text/plain": [
              "<Figure size 1080x720 with 1 Axes>"
            ]
          },
          "metadata": {}
        }
      ]
    },
    {
      "cell_type": "code",
      "metadata": {
        "id": "lWL6Sv05ii3B"
      },
      "source": [
        "cmap = plt.get_cmap('tab20c')\n",
        "outer_colors = cmap(np.array([0, 4, 8,12,16,20]))\n",
        "inner_colors = cmap(np.array([1,3,5,7,9,11,13,15,17,19]))"
      ],
      "execution_count": 104,
      "outputs": []
    },
    {
      "cell_type": "code",
      "metadata": {
        "colab": {
          "base_uri": "https://localhost:8080/",
          "height": 705
        },
        "id": "JE0mHRpKii-S",
        "outputId": "cf0f8e46-8340-47de-8255-09e0e897e444"
      },
      "source": [
        "plt.pie(cd.sum(axis =1), labels= cd.index, radius= 1.5, wedgeprops= dict(width= 0.5),colors=outer_colors )\n",
        "plt.pie(cd.values.flatten(), radius=1, \n",
        "        wedgeprops=dict(width=0.5),labels=['no','yes','no','yes','no','yes','no','yes','no','yes'], colors=inner_colors, labeldistance=0.75, textprops=dict(color='black'));\n",
        "sns.set(rc= {'figure.figsize': (15,10)}, font_scale=2)        "
      ],
      "execution_count": 105,
      "outputs": [
        {
          "output_type": "display_data",
          "data": {
            "image/png": "[encoded data removed]",
            "text/plain": [
              "<Figure size 1080x720 with 1 Axes>"
            ]
          },
          "metadata": {}
        }
      ]
    },
    {
      "cell_type": "code",
      "metadata": {
        "id": "HfGZCmGG00Sy",
        "colab": {
          "base_uri": "https://localhost:8080/",
          "height": 206
        },
        "outputId": "5890906b-0bfb-40c5-eeb5-b037496e0de0"
      },
      "source": [
        "cd.reset_index(inplace= True)\n",
        "cd"
      ],
      "execution_count": 106,
      "outputs": [
        {
          "output_type": "execute_result",
          "data": {
            "text/html": [
              "<div>\n",
              "<style scoped>\n",
              "    .dataframe tbody tr th:only-of-type {\n",
              "        vertical-align: middle;\n",
              "    }\n",
              "\n",
              "    .dataframe tbody tr th {\n",
              "        vertical-align: top;\n",
              "    }\n",
              "\n",
              "    .dataframe thead th {\n",
              "        text-align: right;\n",
              "    }\n",
              "</style>\n",
              "<table border=\"1\" class=\"dataframe\">\n",
              "  <thead>\n",
              "    <tr style=\"text-align: right;\">\n",
              "      <th>digital_use</th>\n",
              "      <th>Prefered social media platform</th>\n",
              "      <th>0</th>\n",
              "      <th>1</th>\n",
              "    </tr>\n",
              "  </thead>\n",
              "  <tbody>\n",
              "    <tr>\n",
              "      <th>0</th>\n",
              "      <td>FACEBOOK</td>\n",
              "      <td>26</td>\n",
              "      <td>26</td>\n",
              "    </tr>\n",
              "    <tr>\n",
              "      <th>1</th>\n",
              "      <td>INSTAGRAM</td>\n",
              "      <td>136</td>\n",
              "      <td>216</td>\n",
              "    </tr>\n",
              "    <tr>\n",
              "      <th>2</th>\n",
              "      <td>OTHERS</td>\n",
              "      <td>69</td>\n",
              "      <td>58</td>\n",
              "    </tr>\n",
              "    <tr>\n",
              "      <th>3</th>\n",
              "      <td>WHATSAPP</td>\n",
              "      <td>166</td>\n",
              "      <td>171</td>\n",
              "    </tr>\n",
              "    <tr>\n",
              "      <th>4</th>\n",
              "      <td>YOUTUBE</td>\n",
              "      <td>142</td>\n",
              "      <td>172</td>\n",
              "    </tr>\n",
              "  </tbody>\n",
              "</table>\n",
              "</div>"
            ],
            "text/plain": [
              "digital_use Prefered social media platform    0    1\n",
              "0                                 FACEBOOK   26   26\n",
              "1                                INSTAGRAM  136  216\n",
              "2                                   OTHERS   69   58\n",
              "3                                 WHATSAPP  166  171\n",
              "4                                  YOUTUBE  142  172"
            ]
          },
          "metadata": {},
          "execution_count": 106
        }
      ]
    },
    {
      "cell_type": "code",
      "metadata": {
        "id": "4dflB4fxijTF"
      },
      "source": [
        "cd.rename(columns={'digital_use':\"Index\",\"Prefered social media platform\" :'Prefered social media', 0:\"No\",1:\"Yes\"}, inplace= True)"
      ],
      "execution_count": 108,
      "outputs": []
    },
    {
      "cell_type": "code",
      "metadata": {
        "colab": {
          "base_uri": "https://localhost:8080/",
          "height": 783
        },
        "id": "yBUKd_yHijZx",
        "outputId": "cc3016e2-a7cd-472f-8221-2d02e81d1890"
      },
      "source": [
        "cd.plot(x= \"Prefered social media\", kind= 'bar', stacked= False, title= \"combination\")\n"
      ],
      "execution_count": 109,
      "outputs": [
        {
          "output_type": "execute_result",
          "data": {
            "text/plain": [
              "<matplotlib.axes._subplots.AxesSubplot at 0x7fb4bd94eb10>"
            ]
          },
          "metadata": {},
          "execution_count": 109
        },
        {
          "output_type": "display_data",
          "data": {
            "image/png": "[encoded data removed]",
            "text/plain": [
              "<Figure size 1080x720 with 1 Axes>"
            ]
          },
          "metadata": {}
        }
      ]
    },
    {
      "cell_type": "code",
      "metadata": {
        "colab": {
          "base_uri": "https://localhost:8080/",
          "height": 206
        },
        "id": "65hZIwAP-pZo",
        "outputId": "5427d2b0-3d78-4268-b1f8-66bfdc0ead0c"
      },
      "source": [
        "cd[\"engagement_per\"]= cd['Yes']/1182\n",
        "cd"
      ],
      "execution_count": 110,
      "outputs": [
        {
          "output_type": "execute_result",
          "data": {
            "text/html": [
              "<div>\n",
              "<style scoped>\n",
              "    .dataframe tbody tr th:only-of-type {\n",
              "        vertical-align: middle;\n",
              "    }\n",
              "\n",
              "    .dataframe tbody tr th {\n",
              "        vertical-align: top;\n",
              "    }\n",
              "\n",
              "    .dataframe thead th {\n",
              "        text-align: right;\n",
              "    }\n",
              "</style>\n",
              "<table border=\"1\" class=\"dataframe\">\n",
              "  <thead>\n",
              "    <tr style=\"text-align: right;\">\n",
              "      <th>digital_use</th>\n",
              "      <th>Prefered social media</th>\n",
              "      <th>No</th>\n",
              "      <th>Yes</th>\n",
              "      <th>engagement_per</th>\n",
              "    </tr>\n",
              "  </thead>\n",
              "  <tbody>\n",
              "    <tr>\n",
              "      <th>0</th>\n",
              "      <td>FACEBOOK</td>\n",
              "      <td>26</td>\n",
              "      <td>26</td>\n",
              "      <td>0.021997</td>\n",
              "    </tr>\n",
              "    <tr>\n",
              "      <th>1</th>\n",
              "      <td>INSTAGRAM</td>\n",
              "      <td>136</td>\n",
              "      <td>216</td>\n",
              "      <td>0.182741</td>\n",
              "    </tr>\n",
              "    <tr>\n",
              "      <th>2</th>\n",
              "      <td>OTHERS</td>\n",
              "      <td>69</td>\n",
              "      <td>58</td>\n",
              "      <td>0.049069</td>\n",
              "    </tr>\n",
              "    <tr>\n",
              "      <th>3</th>\n",
              "      <td>WHATSAPP</td>\n",
              "      <td>166</td>\n",
              "      <td>171</td>\n",
              "      <td>0.144670</td>\n",
              "    </tr>\n",
              "    <tr>\n",
              "      <th>4</th>\n",
              "      <td>YOUTUBE</td>\n",
              "      <td>142</td>\n",
              "      <td>172</td>\n",
              "      <td>0.145516</td>\n",
              "    </tr>\n",
              "  </tbody>\n",
              "</table>\n",
              "</div>"
            ],
            "text/plain": [
              "digital_use Prefered social media   No  Yes  engagement_per\n",
              "0                        FACEBOOK   26   26        0.021997\n",
              "1                       INSTAGRAM  136  216        0.182741\n",
              "2                          OTHERS   69   58        0.049069\n",
              "3                        WHATSAPP  166  171        0.144670\n",
              "4                         YOUTUBE  142  172        0.145516"
            ]
          },
          "metadata": {},
          "execution_count": 110
        }
      ]
    },
    {
      "cell_type": "code",
      "metadata": {
        "colab": {
          "base_uri": "https://localhost:8080/"
        },
        "id": "b1lufi9W5NHh",
        "outputId": "b4451542-d6f4-4a8a-ff7f-03684444924d"
      },
      "source": [
        "student_df.columns.values"
      ],
      "execution_count": 117,
      "outputs": [
        {
          "output_type": "execute_result",
          "data": {
            "text/plain": [
              "array(['ID', 'Region of residence', 'Age of Subject',\n",
              "       'Time spent on Online Class', 'Rating of Online Class experience',\n",
              "       'Medium for online class', 'Time spent on self study',\n",
              "       'Time spent on fitness', 'Time spent on sleep',\n",
              "       'Time spent on social media', 'Prefered social media platform',\n",
              "       'Time spent on TV', 'Number of meals per day',\n",
              "       'Change in your weight', 'Health issue during lockdown',\n",
              "       'Stress busters', 'Time utilized',\n",
              "       'Do you find yourself more connected with your family, close friends , relatives  ?',\n",
              "       'What you miss the most', 'Extra_coaching', 'Extra_mentoring',\n",
              "       'prsnl_trainer', 'onlin_cons', 'digital_use', 'meal_offer',\n",
              "       'socil_add', 'trvl_add'], dtype=object)"
            ]
          },
          "metadata": {},
          "execution_count": 117
        }
      ]
    },
    {
      "cell_type": "code",
      "metadata": {
        "id": "hnBHsEcz6PCi"
      },
      "source": [
        "'ID', 'Region of residence', 'Age of Subject',\n",
        "       'Time spent on Online Class', 'Rating of Online Class experience',\n",
        "       'Medium for online class', 'Time spent on self study',\n",
        "       'Time spent on fitness', 'Time spent on sleep',\n",
        "       'Time spent on social media', 'Prefered social media platform',\n",
        "       'Time spent on TV', 'Number of meals per day',\n",
        "       'Change in your weight', 'Health issue during lockdown',\n",
        "       'Stress busters', 'Time utilized',\n",
        "       'Do you find yourself more connected with your family, close friends , relatives  ?',\n",
        "       'What you miss the most', "
      ],
      "execution_count": null,
      "outputs": []
    },
    {
      "cell_type": "code",
      "metadata": {
        "id": "Fo8qYeDFijix"
      },
      "source": [
        "y=['Extra_coaching', 'Extra_mentoring',\n",
        "       'prsnl_trainer', 'onlin_cons', 'digital_use', 'meal_offer',\n",
        "       'socil_add', 'trvl_add']\n",
        "x1= ['Age of Subject', 'Time spent on Online Class', 'Time spent on Online Class', 'Time spent on self study', 'Time spent on fitness','Time spent on sleep']\n",
        "x2= ['Time spent on social media', 'Prefered social media platform',\n",
        "       'Time spent on TV', 'Number of meals per day',\n",
        "       'Change in your weight', 'Health issue during lockdown',\n",
        "       'Stress busters'] \n",
        "x3=  ['Time utilized',\n",
        "       'Do you find yourself more connected with your family, close friends , relatives  ?','What you miss the most']\n"
      ],
      "execution_count": 137,
      "outputs": []
    },
    {
      "cell_type": "code",
      "metadata": {
        "colab": {
          "base_uri": "https://localhost:8080/",
          "height": 1000
        },
        "id": "SjHdl_VuEJx8",
        "outputId": "c7be9617-d5f1-420e-f57a-bf55cf8fe406"
      },
      "source": [
        "p= sns.pairplot(student_df, x_vars= x1, y_vars= y)\n",
        "sns.set(rc= {'figure.figsize': (35,60)})"
      ],
      "execution_count": 140,
      "outputs": [
        {
          "output_type": "display_data",
          "data": {
            "image/png": "[encoded data removed]",
            "text/plain": [
              "<Figure size 1080x1440 with 48 Axes>"
            ]
          },
          "metadata": {}
        }
      ]
    },
    {
      "cell_type": "code",
      "metadata": {
        "colab": {
          "base_uri": "https://localhost:8080/",
          "height": 1000
        },
        "id": "Cghf0J-I7WTB",
        "outputId": "34844147-7ce6-4645-8381-53e1acb06258"
      },
      "source": [
        "p= sns.pairplot(student_df, x_vars= x2, y_vars= y)\n",
        "sns.set(rc= {'figure.figsize': (35,60)}) \n"
      ],
      "execution_count": 139,
      "outputs": [
        {
          "output_type": "stream",
          "name": "stderr",
          "text": [
            "/usr/local/lib/python3.7/dist-packages/seaborn/axisgrid.py:88: UserWarning: Tight layout not applied. tight_layout cannot make axes width small enough to accommodate all axes decorations\n",
            "  self._figure.tight_layout(*args, **kwargs)\n"
          ]
        },
        {
          "output_type": "display_data",
          "data": {
            "image/png": "[encoded data removed]",
            "text/plain": [
              "<Figure size 1260x1440 with 56 Axes>"
            ]
          },
          "metadata": {}
        }
      ]
    },
    {
      "cell_type": "code",
      "metadata": {
        "colab": {
          "base_uri": "https://localhost:8080/",
          "height": 1000
        },
        "id": "YCWNsD1KEK4d",
        "outputId": "32ac0099-8c80-4100-f5e6-2ab40a7d0f13"
      },
      "source": [
        "p= sns.pairplot(student_df, x_vars= x3, y_vars= y)\n",
        "sns.set(rc= {'figure.figsize': (35,60)})"
      ],
      "execution_count": 141,
      "outputs": [
        {
          "output_type": "stream",
          "name": "stderr",
          "text": [
            "/usr/local/lib/python3.7/dist-packages/seaborn/axisgrid.py:88: UserWarning: Tight layout not applied. tight_layout cannot make axes width small enough to accommodate all axes decorations\n",
            "  self._figure.tight_layout(*args, **kwargs)\n"
          ]
        },
        {
          "output_type": "display_data",
          "data": {
            "image/png": "[encoded data removed]",
            "text/plain": [
              "<Figure size 540x1440 with 24 Axes>"
            ]
          },
          "metadata": {}
        }
      ]
    },
    {
      "cell_type": "markdown",
      "metadata": {
        "id": "w7f_ulRsR8d2"
      },
      "source": [
        "#REPORTS"
      ]
    },
    {
      "cell_type": "code",
      "metadata": {
        "id": "xixbROKyGBLQ"
      },
      "source": [
        " ! pip install sweetviz\n",
        " import sweetviz as sv\n",
        " report= sv.analyze(student_df)\n",
        " report.show_html('report.html',open_browser= True)"
      ],
      "execution_count": null,
      "outputs": []
    },
    {
      "cell_type": "code",
      "metadata": {
        "id": "U65Va20VGBXM"
      },
      "source": [
        "# !pip install pandas-profiling[notebook,html]\n",
        "# import pandas as pd\n",
        "# from pandas_profiling import ProfileReport"
      ],
      "execution_count": null,
      "outputs": []
    },
    {
      "cell_type": "code",
      "metadata": {
        "id": "RWXcSnBJGBqT"
      },
      "source": [
        "# pd_report = ProfileReport(student_df, title= \"pd_report\", explorative= True)\n",
        "# pd_report.to_file(output_file= \"pd_report.html\")\n"
      ],
      "execution_count": null,
      "outputs": []
    },
    {
      "cell_type": "markdown",
      "metadata": {
        "id": "sQPjB9Ed04yJ"
      },
      "source": [
        "#As this is a sample (taken using stratified smapling method). when we estimate the population parameters, we will try to neglect the prescence of skewness. Instead we will use the sample error to find the confidence interval for population parameters."
      ]
    }
  ]
}